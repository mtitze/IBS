{
 "cells": [
  {
   "cell_type": "markdown",
   "metadata": {
    "cell_style": "split",
    "slideshow": {
     "slide_type": "slide"
    }
   },
   "source": [
    "# Tutorial IBS"
   ]
  },
  {
   "cell_type": "code",
   "execution_count": 1,
   "metadata": {
    "cell_style": "center",
    "slideshow": {
     "slide_type": "-"
    }
   },
   "outputs": [],
   "source": [
    "import IBSLib as ibslib\n",
    "import numpy as np\n",
    "import pandas as pd"
   ]
  },
  {
   "cell_type": "markdown",
   "metadata": {},
   "source": [
    "For getting help:\n",
    "```python\n",
    "help(ibslib.Nagaitsev)\n",
    "```\n",
    "\n",
    "Help on built-in function Nagaitsev in module IBSLib:\n",
    "\n",
    "Nagaitsev(...) method of builtins.PyCapsule instance\n",
    "    Nagaitsev(pnumber: float, emitx: float, emity: float, bunchLength: float, dpop: float, twissHeaderMap: Dict[str, float], twissTableMap: Dict[str, List[float]], classicalRadius: float, outputArray: numpy.ndarray[numpy.float64]) -> None\n",
    "    \n",
    "    Nagaitsev"
   ]
  },
  {
   "cell_type": "markdown",
   "metadata": {
    "cell_style": "center",
    "slideshow": {
     "slide_type": "-"
    }
   },
   "source": [
    "## Physical Constants\n"
   ]
  },
  {
   "cell_type": "code",
   "execution_count": 2,
   "metadata": {
    "cell_style": "center",
    "slideshow": {
     "slide_type": "-"
    }
   },
   "outputs": [
    {
     "name": "stdout",
     "output_type": "stream",
     "text": [
      "Speed of light in m/s               : 2.99792458e+08\n",
      "Reduced Planck constant in GeV      : 6.58211957e-25\n",
      "Electron Mass in GeV                : 5.10998950e-04\n",
      "Proton Mass in GeV                  : 9.38272088e-01\n",
      "Neutron Mass in GeV                 : 9.39565421e-01\n",
      "Muon Mass in GeV                    : 1.05658375e-01\n",
      "Atomic Mass Unit in GeV             : 9.31494102e-01\n",
      "Pi                                  : 3.14159265e+00\n",
      "Electric Charge in Coulomb          : 1.60217663e-19\n",
      "Euler Constant                      : 5.77215665e-01\n",
      "Classical Electron Radius in m      : 2.81794033e-15\n",
      "Classical Proton Radius in m        : 1.53469827e-18\n"
     ]
    }
   ],
   "source": [
    "print(\"{:35} : {:12.8e}\".format(\"Speed of light in m/s\", ibslib.clight))\n",
    "print(\"{:35} : {:12.8e}\".format(\"Reduced Planck constant in GeV \", ibslib.hbarGeV))\n",
    "print(\"{:35} : {:12.8e}\".format(\"Electron Mass in GeV\", ibslib.electron_mass))\n",
    "print(\"{:35} : {:12.8e}\".format(\"Proton Mass in GeV\", ibslib.proton_mass))\n",
    "print(\"{:35} : {:12.8e}\".format(\"Neutron Mass in GeV\", ibslib.neutron_mass))\n",
    "print(\"{:35} : {:12.8e}\".format(\"Muon Mass in GeV\", ibslib.mu_mass))\n",
    "print(\"{:35} : {:12.8e}\".format(\"Atomic Mass Unit in GeV\", ibslib.atomic_mass_unit))\n",
    "print(\"{:35} : {:12.8e}\".format(\"Pi\", ibslib.pi))\n",
    "print(\"{:35} : {:12.8e}\".format(\"Electric Charge in Coulomb\", ibslib.electric_charge))\n",
    "print(\"{:35} : {:12.8e}\".format(\"Euler Constant\", ibslib.euler))\n",
    "print(\"{:35} : {:12.8e}\".format(\"Classical Electron Radius in m\", ibslib.electron_radius))\n",
    "print(\"{:35} : {:12.8e}\".format(\"Classical Proton Radius in m \", ibslib.proton_radius))\n"
   ]
  },
  {
   "cell_type": "markdown",
   "metadata": {
    "slideshow": {
     "slide_type": "slide"
    }
   },
   "source": [
    "## Twiss\n",
    "\n",
    "- Cpymad\n",
    "- from file\n",
    "    * read header\n",
    "    * read table\n",
    "    * update -> adds radiation integrals per element (I1,I2,I3,I4x,I4y,I5x,I5y)"
   ]
  },
  {
   "cell_type": "markdown",
   "metadata": {
    "slideshow": {
     "slide_type": "subslide"
    }
   },
   "source": [
    "### Cpymad"
   ]
  },
  {
   "cell_type": "code",
   "execution_count": 3,
   "metadata": {
    "slideshow": {
     "slide_type": "fragment"
    }
   },
   "outputs": [
    {
     "name": "stdout",
     "output_type": "stream",
     "text": [
      "{'alfa': 0.0007316942746,\n",
      " 'bcurrent': 2.001335116e-13,\n",
      " 'betxmax': 17.43722837,\n",
      " 'betymax': 21.09492526,\n",
      " 'bv_flag': 1.0,\n",
      " 'charge': -1.0,\n",
      " 'deltap': 0.0,\n",
      " 'dq1': 1.077745266,\n",
      " 'dq2': 1.371772348,\n",
      " 'dxmax': 0.4496533372,\n",
      " 'dxrms': 0.2272073799,\n",
      " 'dymax': 0.0,\n",
      " 'dyrms': 0.0,\n",
      " 'energy': 1.7,\n",
      " 'et': 0.001,\n",
      " 'ex': 1.0,\n",
      " 'ey': 1.0,\n",
      " 'gamma': 3326.817012,\n",
      " 'gammatr': 36.9687845,\n",
      " 'kbunch': 1.0,\n",
      " 'length': 240.0,\n",
      " 'mass': 0.00051099895,\n",
      " 'npart': 1.0,\n",
      " 'orbit5': -0.0,\n",
      " 'particle': 'ELECTRON',\n",
      " 'pc': 1.699999923,\n",
      " 'q1': 17.84996563,\n",
      " 'q2': 6.743031469,\n",
      " 'sequence': 'RING',\n",
      " 'sige': 0.001,\n",
      " 'sigt': 1.0,\n",
      " 'synch_1': 0.1756066259,\n",
      " 'synch_2': 1.442924619,\n",
      " 'synch_3': 0.3313655981,\n",
      " 'synch_4': -0.004653715528,\n",
      " 'synch_5': 0.001749753833,\n",
      " 'xcomax': 0.0,\n",
      " 'xcorms': 0.0,\n",
      " 'ycomax': 0.0,\n",
      " 'ycorms': 0.0}\n"
     ]
    }
   ],
   "source": [
    "from pprint import pprint\n",
    "from cpymad.madx import Madx\n",
    "\n",
    "lattice = \"BII_1996-01-01_design_v_1.seq\"\n",
    "tfsfile = \"b2_design.twiss\"\n",
    "\n",
    "mad = Madx()\n",
    "mad.option.echo = False\n",
    "mad.option.warn = False\n",
    "mad.command.beam(energy=1.7, particle='electron')\n",
    "mad.call(file=lattice)\n",
    "mad.use(sequence='ring')\n",
    "twiss = mad.twiss(file=tfsfile, chrom=True)\n",
    "pprint(dict(twiss.summary))"
   ]
  },
  {
   "cell_type": "markdown",
   "metadata": {
    "slideshow": {
     "slide_type": "subslide"
    }
   },
   "source": [
    "###  From File"
   ]
  },
  {
   "cell_type": "code",
   "execution_count": 4,
   "metadata": {
    "slideshow": {
     "slide_type": "fragment"
    }
   },
   "outputs": [],
   "source": [
    "# read twiss summary / header as dictionary\n",
    "twissHeader = ibslib.GetTwissHeader(tfsfile)"
   ]
  },
  {
   "cell_type": "code",
   "execution_count": 5,
   "metadata": {
    "slideshow": {
     "slide_type": "fragment"
    }
   },
   "outputs": [
    {
     "name": "stdout",
     "output_type": "stream",
     "text": [
      "['ALFX', 'ALFY', 'ANGLE', 'BETX', 'BETY', 'DPX', 'DPY', 'DX', 'DY', 'K1L', 'K1SL', 'L']\n"
     ]
    }
   ],
   "source": [
    "# read twiss table as dictionary - only reads IBS relevant columns from Twiss (data reduction)\n",
    "twissTable = ibslib.GetTwissTable(tfsfile)\n",
    "print(list(twissTable.keys()))"
   ]
  },
  {
   "cell_type": "code",
   "execution_count": 6,
   "metadata": {
    "slideshow": {
     "slide_type": "fragment"
    }
   },
   "outputs": [
    {
     "name": "stdout",
     "output_type": "stream",
     "text": [
      "['ALFX', 'ALFY', 'ANGLE', 'BETX', 'BETY', 'DPX', 'DPY', 'DX', 'DY', 'I1', 'I2', 'I3', 'I4x', 'I4y', 'I5x', 'I5y', 'K1L', 'K1SL', 'L', 'gammax', 'gammay', 'hx', 'hy', 'k', 'rho']\n"
     ]
    }
   ],
   "source": [
    "# update Twiss with radiation integrals and related quantities needed later on (come back to this later)\n",
    "twissTable = ibslib.updateTwiss(twissTable)\n",
    "print(list(twissTable.keys()))"
   ]
  },
  {
   "cell_type": "markdown",
   "metadata": {
    "slideshow": {
     "slide_type": "fragment"
    }
   },
   "source": [
    "print values of twiss column\n",
    "\n",
    "```python\n",
    "ibslib.printTwissColumn(\"BETX\",twissTable)\n",
    "```"
   ]
  },
  {
   "cell_type": "markdown",
   "metadata": {
    "slideshow": {
     "slide_type": "slide"
    }
   },
   "source": [
    "## Radiation Damping\n",
    "- RadiationDampingApprox\n",
    "- RadiationDampingLattice\n",
    "- RadiationDampingEquilibria"
   ]
  },
  {
   "cell_type": "markdown",
   "metadata": {
    "slideshow": {
     "slide_type": "subslide"
    }
   },
   "source": [
    "###  Radiation Damping Approx\n",
    "\n",
    "Uses ring averages (Tunes -> beta average, average bending radius, etc...)"
   ]
  },
  {
   "cell_type": "code",
   "execution_count": 7,
   "metadata": {
    "slideshow": {
     "slide_type": "fragment"
    }
   },
   "outputs": [
    {
     "data": {
      "text/plain": [
       "array([1.540409  , 1.44292462, 0.3313656 , 0.        , 0.        ,\n",
       "       0.07523688, 0.        ])"
      ]
     },
     "execution_count": 7,
     "metadata": {},
     "output_type": "execute_result"
    }
   ],
   "source": [
    "df     = pd.DataFrame.from_dict(twissTable,orient='columns')\n",
    "rhoAvg = df.loc[df.rho != 0.0,'rho'].mean()\n",
    "\n",
    "gamma    = twissHeader['GAMMA']\n",
    "gamma_tr = twissHeader['GAMMATR']\n",
    "circ     = twissHeader['LENGTH']\n",
    "\n",
    "bxAvg = circ / (2.0 * ibslib.pi * twissHeader[\"Q1\"]); \n",
    "byAvg = circ / (2.0 * ibslib.pi * twissHeader[\"Q2\"]);\n",
    "\n",
    "radint = np.zeros(7)\n",
    "ibslib.RadiationDampingApprox(circ, gamma, gamma_tr, rhoAvg, bxAvg, byAvg, radint);\n",
    "radint"
   ]
  },
  {
   "cell_type": "markdown",
   "metadata": {
    "slideshow": {
     "slide_type": "subslide"
    }
   },
   "source": [
    "### Radiation Damping Lattice\n",
    "\n",
    "Uses Twiss Table"
   ]
  },
  {
   "cell_type": "code",
   "execution_count": 8,
   "metadata": {
    "slideshow": {
     "slide_type": "fragment"
    }
   },
   "outputs": [
    {
     "data": {
      "text/plain": [
       "array([ 0.26299979,  1.44292462,  0.3313656 , -0.00465372,  0.        ,\n",
       "        0.00201665,  0.        ])"
      ]
     },
     "execution_count": 8,
     "metadata": {},
     "output_type": "execute_result"
    }
   ],
   "source": [
    "ibslib.RadiationDampingLattice(twissTable, radint)\n",
    "radint"
   ]
  },
  {
   "cell_type": "markdown",
   "metadata": {
    "slideshow": {
     "slide_type": "subslide"
    }
   },
   "source": [
    "### Radiation damping Equilibria\n",
    "\n",
    "Values are used in the ODE simulations!!"
   ]
  },
  {
   "cell_type": "code",
   "execution_count": 9,
   "metadata": {
    "slideshow": {
     "slide_type": "fragment"
    }
   },
   "outputs": [
    {
     "name": "stdout",
     "output_type": "stream",
     "text": [
      "Energy Loss per Turn : 1.702619e+05 (eV)\n",
      "\n",
      "Taux       : 7.967527e-03 (s)\n",
      "Tauy       : 7.993224e-03 (s)\n",
      "Taus       : 3.990177e-03 (s)\n",
      "exinf      : 5.908327e-09 ()\n",
      "eyinf      : 9.415563e-14 ()\n",
      "sigeoe2    : 4.877655e-07 ()\n",
      "sigsinf    : 3.054559e-03 ()\n",
      "jx         : 1.003225e+00 ()\n",
      "jy         : 1.000000e+00 ()\n"
     ]
    }
   ],
   "source": [
    "gamma   = twissHeader.get('GAMMA')\n",
    "pc      = twissHeader.get('PC')\n",
    "gammatr = twissHeader.get('GAMMATR')\n",
    "mass    = twissHeader.get('MASS')\n",
    "charge  = twissHeader.get('CHARGE')\n",
    "q1      = twissHeader.get('Q1')\n",
    "l       = twissHeader.get('LENGTH')\n",
    "\n",
    "aatom   = ibslib.electron_mass / ibslib.proton_mass\n",
    "betar   = ibslib.beta_relativistic_from_gamma(gamma) # see numeric functions\n",
    "r0      = ibslib.particle_radius(1, aatom) # see numeric functions\n",
    "trev    = l / (betar * ibslib.clight)\n",
    "frev    = 1.0 / trev\n",
    "omega   = 2.0 * ibslib.pi * frev\n",
    "eta     = ibslib.eta(gamma, gammatr)\n",
    "epsilon = 1.0e-6 # accuracy for synchronuous phase search\n",
    "\n",
    "radint = np.zeros(7)\n",
    "ibslib.RadiationDampingLattice(twissTable, radint)\n",
    "\n",
    "target_energy_gain_ev    = 0.0\n",
    "intial_phis_search_value = 173\n",
    "harmon                   = [400.0]\n",
    "voltages                 = [-4. * 375000.]\n",
    "\n",
    "# methods below are described/ demonstrated in the numeric functions part\n",
    "U0     = ibslib.get_energy_loss_per_turn(twissHeader, radint[1], aatom) \n",
    "phis   = ibslib.get_synchronuous_phase(target_energy_gain_ev, intial_phis_search_value, U0, charge, harmon,voltages,epsilon)\n",
    "qs     = ibslib.get_synchrotron_tune(omega, U0, charge, harmon, voltages, phis, eta, pc)\n",
    "omegas = qs * omega\n",
    "\n",
    "equi = np.zeros(9)\n",
    "ibslib.RadiationDampingEquilibria(twissHeader, radint, aatom, qs, equi)\n",
    "print(\"{:10} : {:10.6e} ({})\\n\".format(\"Energy Loss per Turn\", U0, \"eV\"));\n",
    "print(\"{:10} : {:10.6e} ({})\".format(\"Taux\", equi[0], \"s\"));\n",
    "print(\"{:10} : {:10.6e} ({})\".format(\"Tauy\", equi[1], \"s\"));\n",
    "print(\"{:10} : {:10.6e} ({})\".format(\"Taus\", equi[2], \"s\"));\n",
    "print(\"{:10} : {:10.6e} ({})\".format(\"exinf\", equi[3], \"\"));\n",
    "print(\"{:10} : {:10.6e} ({})\".format(\"eyinf\", equi[4], \"\"));\n",
    "print(\"{:10} : {:10.6e} ({})\".format(\"sigeoe2\", equi[5], \"\"));\n",
    "print(\"{:10} : {:10.6e} ({})\".format(\"sigsinf\", equi[6], \"\"));\n",
    "print(\"{:10} : {:10.6e} ({})\".format(\"jx\", equi[7], \"\"));\n",
    "print(\"{:10} : {:10.6e} ({})\".format(\"jy\", equi[8], \"\"))"
   ]
  },
  {
   "cell_type": "markdown",
   "metadata": {
    "slideshow": {
     "slide_type": "slide"
    }
   },
   "source": [
    "## Numeric Functions\n",
    "\n",
    "- Standard util functions\n",
    "- Longitudinal / RF\n",
    "- IBS specific numeric functions"
   ]
  },
  {
   "cell_type": "markdown",
   "metadata": {
    "slideshow": {
     "slide_type": "subslide"
    }
   },
   "source": [
    "### Standard functions"
   ]
  },
  {
   "cell_type": "code",
   "execution_count": 10,
   "metadata": {
    "slideshow": {
     "slide_type": "fragment"
    }
   },
   "outputs": [
    {
     "data": {
      "text/plain": [
       "(0.999999954823541,\n",
       " 0.0007316942747206528,\n",
       " 2.8179403262e-15,\n",
       " 0.0006984020902062896,\n",
       " 0.0006984021532869811,\n",
       " 0.0006984020902063293)"
      ]
     },
     "execution_count": 10,
     "metadata": {},
     "output_type": "execute_result"
    }
   ],
   "source": [
    "betar   = ibslib.beta_relativistic_from_gamma(gamma)\n",
    "eta     = ibslib.eta(gamma, gammatr)\n",
    "r0      = ibslib.particle_radius(1, aatom)\n",
    "\n",
    "sige    = np.sqrt(equi[5])\n",
    "dpop    = ibslib.dee_to_dpp(sige, betar)\n",
    "deoe    = ibslib.dpp_to_dee(dpop, betar)\n",
    "betar, eta, r0, sige, dpop, deoe"
   ]
  },
  {
   "cell_type": "markdown",
   "metadata": {
    "slideshow": {
     "slide_type": "subslide"
    }
   },
   "source": [
    "### Longitudinal / RF\n",
    "- sigs_from_sige\n",
    "- sige_from_sigs\n",
    "- rf_voltage_in_eV - energy gain in eV -> to be able to find $\\phi_s$\n",
    "- rf_voltage_in_ev_prime - derivative of rf_voltage_in_eV \n",
    "- rf_voltage_in_ev_with_rad_losses\n",
    "- get_synchronuous_phase\n",
    "- rf_voltage_with_potential_well_distortion\n",
    "- rf_voltage_with_potential_well_distortion_prime\n",
    "- get_synchronuous_phase_with_potential_well_distortion\n",
    "- get_synchrotron_tune\n",
    "- get_synchrotron_tune_with_potential_well\n",
    "- sige_form_sigs_using_rf"
   ]
  },
  {
   "cell_type": "code",
   "execution_count": 11,
   "metadata": {
    "slideshow": {
     "slide_type": "fragment"
    }
   },
   "outputs": [
    {
     "data": {
      "text/plain": [
       "(0.003054558934794126, 0.0006984020902062896)"
      ]
     },
     "execution_count": 11,
     "metadata": {},
     "output_type": "execute_result"
    }
   ],
   "source": [
    "# sigma_s from sigma_e\n",
    "sigs = ibslib.sigs_from_sige(sige, gamma, gammatr, omegas)\n",
    "sigs, sige"
   ]
  },
  {
   "cell_type": "code",
   "execution_count": 12,
   "metadata": {
    "slideshow": {
     "slide_type": "fragment"
    }
   },
   "outputs": [
    {
     "data": {
      "text/plain": [
       "(0.003054558934794126, 0.0006984020902062895)"
      ]
     },
     "execution_count": 12,
     "metadata": {},
     "output_type": "execute_result"
    }
   ],
   "source": [
    "# sigma_e from sigma_s\n",
    "sigen = ibslib.sige_from_sigs(omega, sigs, qs, gamma, gammatr)\n",
    "sigs,sigen"
   ]
  },
  {
   "cell_type": "code",
   "execution_count": 13,
   "metadata": {},
   "outputs": [
    {
     "data": {
      "text/plain": [
       "(182804.01510772132, -1488819.227461983)"
      ]
     },
     "execution_count": 13,
     "metadata": {},
     "output_type": "execute_result"
    }
   ],
   "source": [
    "phi = 173\n",
    "ibslib.rf_voltage_in_ev(phi, charge, harmon,voltages), ibslib.rf_voltage_in_ev_prime(phi, charge, harmon,voltages)"
   ]
  },
  {
   "cell_type": "code",
   "execution_count": 14,
   "metadata": {},
   "outputs": [
    {
     "data": {
      "text/plain": [
       "12542.106380552286"
      ]
     },
     "execution_count": 14,
     "metadata": {},
     "output_type": "execute_result"
    }
   ],
   "source": [
    "# offset to be on synchronuous phase\n",
    "ibslib.rf_voltage_in_ev_with_rad_losses(phi, charge, U0, harmon, voltages)"
   ]
  },
  {
   "cell_type": "code",
   "execution_count": 15,
   "metadata": {},
   "outputs": [
    {
     "data": {
      "text/plain": [
       "(173, 173.48242725610714, 9.92469722405076e-07)"
      ]
     },
     "execution_count": 15,
     "metadata": {},
     "output_type": "execute_result"
    }
   ],
   "source": [
    "# synchronuous phase\n",
    "phis   = ibslib.get_synchronuous_phase(target_energy_gain_ev, intial_phis_search_value, U0, charge, harmon,voltages,epsilon)\n",
    "intial_phis_search_value, phis, ibslib.rf_voltage_in_ev_with_rad_losses(phis, charge, U0, harmon, voltages)"
   ]
  },
  {
   "cell_type": "code",
   "execution_count": 16,
   "metadata": {},
   "outputs": [
    {
     "data": {
      "text/plain": [
       "0.006390253850181927"
      ]
     },
     "execution_count": 16,
     "metadata": {},
     "output_type": "execute_result"
    }
   ],
   "source": [
    "# synchrotron tune \n",
    "ibslib.get_synchrotron_tune(omega, U0, charge, harmon, voltages, phis, eta, pc)"
   ]
  },
  {
   "cell_type": "code",
   "execution_count": 17,
   "metadata": {},
   "outputs": [
    {
     "data": {
      "text/plain": [
       "(0.0006984021533089606, 0.0006984020902062896)"
      ]
     },
     "execution_count": 17,
     "metadata": {},
     "output_type": "execute_result"
    }
   ],
   "source": [
    "ibslib.sige_form_sigs_using_rf(sigs, U0, charge, harmon, voltages, gamma,gammatr, pc, circ, phis, True), sige"
   ]
  },
  {
   "cell_type": "markdown",
   "metadata": {},
   "source": [
    "### IBS specific"
   ]
  },
  {
   "cell_type": "code",
   "execution_count": 18,
   "metadata": {},
   "outputs": [
    {
     "data": {
      "text/plain": [
       "(-5.404172967883225, 0.29046028102188937)"
      ]
     },
     "execution_count": 18,
     "metadata": {},
     "output_type": "execute_result"
    }
   ],
   "source": [
    "# numeric functions used in IBS growth rate calculations\n",
    "ibslib.fmohl(1.,2.,3.,1000), ibslib.rds(1.0,2.0,3.0)"
   ]
  },
  {
   "cell_type": "markdown",
   "metadata": {},
   "source": [
    "## Coulomb Log\n",
    "- twclog\n",
    "- twclogtail\n",
    "- coulomblog\n",
    "- coulomblogtail\n",
    "\n",
    "The first two methods are used in the simulation and are designed to be applied on an element by element basis. \n",
    "The second two use ring averages and can be used to get an idea of the values."
   ]
  },
  {
   "cell_type": "code",
   "execution_count": 19,
   "metadata": {
    "scrolled": false
   },
   "outputs": [
    {
     "name": "stdout",
     "output_type": "stream",
     "text": [
      "Coulomb Log                    : 1.742574e+01\n",
      "Coulomb IBS pre-factor         : 1.135416e+02\n",
      "\n",
      "Coulomb Log Tailcut            : 9.002388e+00\n",
      "Coulomb IBS pre-factor Tailcut : 5.865725e+01\n",
      "\n",
      "Element weighted\n",
      "================\n",
      "Coulomb Log                    : 1.654592e+01\n",
      "Coulomb IBS pre-factor         : 1.078089e+02\n",
      "\n",
      "Coulomb Log Tailcut            : 1.582737e+01\n",
      "Coulomb IBS pre-factor Tailcut : 1.031271e+02\n"
     ]
    }
   ],
   "source": [
    "pnumber = 1.0e10\n",
    "restE   = twissHeader['ENERGY']\n",
    "clog    = np.zeros(2)\n",
    "clogt   = np.zeros(2)\n",
    "\n",
    "# using ring averages\n",
    "ibslib.coulomblog(pnumber, equi[3], equi[4], twissHeader, sige, sigs, r0, True, clog)\n",
    "ibslib.coulomblogtail(pnumber, equi[3], equi[4], twissHeader, sige, sigs, equi[0], equi[1], equi[2], r0, True, clogt)\n",
    "\n",
    "print(\"{:30} : {:12.6e}\".format(\"Coulomb Log\", clog[0]))\n",
    "print(\"{:30} : {:12.6e}\".format(\"Coulomb IBS pre-factor\", clog[1]))\n",
    "print()\n",
    "print(\"{:30} : {:12.6e}\".format(\"Coulomb Log Tailcut\", clogt[0]))\n",
    "print(\"{:30} : {:12.6e}\".format(\"Coulomb IBS pre-factor Tailcut\", clogt[1]))\n",
    "print()\n",
    "\n",
    "\n",
    "print(\"Element weighted\")\n",
    "print(\"================\")\n",
    "# element by element weighted\n",
    "avgclog  = 0.0;\n",
    "avgclogc = 0.0;\n",
    "\n",
    "# without tailcut\n",
    "for i in range(len(twissTable[\"L\"])):\n",
    "    ibslib.twclog(pnumber, twissTable[\"BETX\"][i], twissTable[\"BETY\"][i],\n",
    "           twissTable[\"DX\"][i], twissTable[\"DY\"][i], equi[3], equi[4], r0,\n",
    "           gamma, charge, restE, mass, sige, sigs, clog);\n",
    "    avgclog  += twissTable[\"L\"][i] * clog[0];\n",
    "    avgclogc += twissTable[\"L\"][i] * clog[1];\n",
    "    \n",
    "avgclog  /= twissHeader[\"LENGTH\"];\n",
    "avgclogc /= twissHeader[\"LENGTH\"];\n",
    "\n",
    "print(\"{:30} : {:12.6e}\".format(\"Coulomb Log\", avgclog))\n",
    "print(\"{:30} : {:12.6e}\".format(\"Coulomb IBS pre-factor\", avgclogc))\n",
    "print()\n",
    "\n",
    "# with tailcut\n",
    "for i in range(len(twissTable[\"L\"])):\n",
    "    ibslib.twclogtail(pnumber, twissTable[\"L\"][i], twissTable[\"BETX\"][i],\n",
    "               twissTable[\"BETY\"][i], twissTable[\"DX\"][i],\n",
    "               twissTable[\"DPX\"][i], twissTable[\"DY\"][i],\n",
    "               twissTable[\"DPY\"][i], twissTable[\"ALFX\"][i],\n",
    "               twissTable[\"ALFY\"][i], twissTable[\"ANGLE\"][i],\n",
    "               twissTable[\"K1L\"][i], twissTable[\"K1SL\"][i], equi[3],\n",
    "               equi[4], r0, aatom, gamma, restE, circ, mass, charge, sige, sigs,\n",
    "               clogt);\n",
    "    avgclog  += twissTable[\"L\"][i] * clogt[0];\n",
    "    avgclogc += twissTable[\"L\"][i] * clogt[1];\n",
    "    \n",
    "avgclog  /= twissHeader[\"LENGTH\"];\n",
    "avgclogc /= twissHeader[\"LENGTH\"];\n",
    "\n",
    "print(\"{:30} : {:12.6e}\".format(\"Coulomb Log Tailcut\", avgclog))\n",
    "print(\"{:30} : {:12.6e}\".format(\"Coulomb IBS pre-factor Tailcut\", avgclogc))"
   ]
  },
  {
   "cell_type": "markdown",
   "metadata": {},
   "source": [
    "## Integrands and integrals\n",
    "- Simpson\n",
    "- Simpson Decade\n",
    "- Simpson Decade with scaling for Zimmerman Models as implemented in MADX\n",
    "- Integrand Function that can be passed to the integrators (Bjorken-Mtingwa, Conte-Martini, Zimmerman)\n",
    "- Demo with IBS models as individually hard to compare due to different integrands. (test_cpp_integrators.py in unit tests for some examples)"
   ]
  },
  {
   "cell_type": "markdown",
   "metadata": {},
   "source": [
    "## IBS models\n",
    "- Numeric approximation function (fast)\n",
    "    - Piwinski smooth\n",
    "    - Piwinski lattice\n",
    "    - Piwinski Modified\n",
    "    - Nagaitsev without and with tailcut\n",
    "- Using integration\n",
    "    - Zimmerman model - madx with and without tailcut using scaled Simpson Decade\n",
    "    - Bjorken-Mtingwa Simpson (least accurate)\n",
    "    - Bjorken-Mtingwa Simpson Decade with and without tailcut\n",
    "    - Conte-Martini Simpson Decade with and without tailcut\n",
    "    - Zimmerman model with Simpson Decade\n",
    "\n",
    "**Note: all use coulomb constants element weighted - different from previous implementations.**"
   ]
  },
  {
   "cell_type": "code",
   "execution_count": 20,
   "metadata": {},
   "outputs": [
    {
     "name": "stdout",
     "output_type": "stream",
     "text": [
      "IBS Models\n",
      "==========\n",
      "Model                                   \tte2         \ttex         \ttey         \n",
      "Piwinski Smooth                         \t0.000041    \t0.072543    \t0.000866    \n",
      "Piwinski Lattice                        \t0.000060    \t0.011744    \t0.000650    \n",
      "Piwinski Lattice Modified               \t0.000060    \t0.011751    \t0.000651    \n",
      "Nagaitsev                               \t0.000033    \t0.006027    \t0.000422    \n",
      "Nagaitsev Tailcut                       \t0.000035    \t0.006492    \t0.000459    \n",
      "Zimmerman scaled Simpson Decade         \t0.000032    \t0.005843    \t0.000402    \n",
      "Zimmerman scaled Simpson Decade Tailcut \t0.000033    \t0.006147    \t0.000440    \n",
      "Bjorken Mtingwa Simpson                 \t0.000031    \t0.005637    \t0.000411    \n",
      "Bjorken Mtingwa Simpson Decade          \t0.000031    \t0.005572    \t0.000413    \n",
      "Bjorken Mtingwa Simpson Decade Tailcut  \t0.000032    \t0.006003    \t0.000450    \n",
      "Conte Martini Simpson Decade            \t0.000032    \t0.005757    \t0.000403    \n",
      "Conte Martini Simpson Decade Tailcut    \t0.000033    \t0.006202    \t0.000439    \n",
      "Zimmerman Simpson Decade                \t0.000032    \t0.005692    \t0.000403    \n"
     ]
    }
   ],
   "source": [
    "print(\"IBS Models\");\n",
    "print(\"==========\");\n",
    "printf = lambda model, te, tx, ty: \"{:40}\\t{:<12.6f}\\t{:<12.6f}\\t{:<12.6f}\".format(model, te, tx, ty)\n",
    "print(\"{:40}\\t{:12}\\t{:12}\\t{:12}\".format('Model', \"te2\", \"tex\", \"tey\"))\n",
    "res = np.zeros(3)\n",
    "sige0 = 1e-4;\n",
    "\n",
    "ibslib.PiwinskiSmooth(pnumber, equi[3], equi[4], sigs, ibslib.dee_to_dpp(sige0, betar), twissHeader, r0, res);\n",
    "print(printf(\"Piwinski Smooth\", *(0.5/res)));\n",
    "\n",
    "ibslib.PiwinskiLattice(pnumber, equi[3], equi[4], sigs, ibslib.dee_to_dpp(sige0, betar), twissHeader, twissTable, r0, res);\n",
    "print(printf(\"Piwinski Lattice\", *(0.5/res)));\n",
    "\n",
    "ibslib.PiwinskiLatticeModified(pnumber, equi[3], equi[4], sigs, ibslib.dee_to_dpp(sige0, betar), twissHeader, twissTable, r0, res);\n",
    "print(printf(\"Piwinski Lattice Modified\", *(0.5/res)));\n",
    "\n",
    "ibslib.Nagaitsev(pnumber, equi[3], equi[4], sigs, ibslib.dee_to_dpp(sige0, betar), twissHeader, twissTable, r0, res);\n",
    "print(printf(\"Nagaitsev\", *(0.5/res)));\n",
    "\n",
    "ibslib.NagaitsevTailcut(pnumber, equi[3], equi[4], sigs, ibslib.dee_to_dpp(sige0, betar), twissHeader, twissTable, r0, aatom, res);\n",
    "print(printf(\"Nagaitsev Tailcut\", *(0.5/res)));\n",
    "\n",
    "# IBS METHODS WITH DEDICATED INTEGRATORS\n",
    "# ================================================================================\n",
    "\n",
    "ibslib.Zimmerman(pnumber, equi[3], equi[4], sigs, sige0, twissHeader, twissTable, r0, True, res);\n",
    "print(printf(\"Zimmerman scaled Simpson Decade\", *(0.5/res)));\n",
    "\n",
    "ibslib.ZimmermanTailcut(pnumber, equi[3], equi[4], sigs, sige0, twissHeader, twissTable, r0, aatom, res);\n",
    "print(printf(\"Zimmerman scaled Simpson Decade Tailcut\", *(0.5/res)));\n",
    "\n",
    "ibslib.BjorkenMtingwaSimpson(pnumber, equi[3], equi[4], sigs, ibslib.dee_to_dpp(sige0, betar), twissHeader, twissTable, r0, res);\n",
    "print(printf(\"Bjorken Mtingwa Simpson\", *(0.5/res)));\n",
    "\n",
    "ibslib.BjorkenMtingwaSimpsonDecade(pnumber, equi[3], equi[4], sigs, ibslib.dee_to_dpp(sige0, betar), twissHeader, twissTable, r0, res);\n",
    "print(printf(\"Bjorken Mtingwa Simpson Decade\", *(0.5/res)));\n",
    "\n",
    "ibslib.BjorkenMtingwaTailcutSimpsonDecade(pnumber, equi[3], equi[4], sigs, ibslib.dee_to_dpp(sige0, betar), twissHeader, twissTable, r0, aatom, res);\n",
    "print(printf(\"Bjorken Mtingwa Simpson Decade Tailcut\", *(0.5/res)));\n",
    "\n",
    "ibslib.ConteMartiniSimpsonDecade(pnumber, equi[3], equi[4], sigs, ibslib.dee_to_dpp(sige0, betar), twissHeader, twissTable, r0, res);\n",
    "print(printf(\"Conte Martini Simpson Decade\", *(0.5/res)));\n",
    "\n",
    "ibslib.ConteMartiniTailcutSimpsonDecade(pnumber, equi[3], equi[4], sigs, ibslib.dee_to_dpp(sige0, betar), twissHeader, twissTable, r0, aatom, res);\n",
    "print(printf(\"Conte Martini Simpson Decade Tailcut\", *(0.5/res)));\n",
    "\n",
    "ibslib.ZimmermanSimpsonDecade(pnumber, equi[3], equi[4], sigs, ibslib.dee_to_dpp(sige0, betar), twissHeader, twissTable, r0, res);\n",
    "print(printf(\"Zimmerman Simpson Decade\", *(0.5/res)));"
   ]
  },
  {
   "cell_type": "markdown",
   "metadata": {},
   "source": [
    "Keep in mind that the Piwinski models do not use an elment weighted Coulomb Log calculation, but it is embedded in the analytical function used."
   ]
  },
  {
   "cell_type": "markdown",
   "metadata": {},
   "source": [
    "## ODE simulations"
   ]
  },
  {
   "cell_type": "code",
   "execution_count": 21,
   "metadata": {},
   "outputs": [
    {
     "name": "stdout",
     "output_type": "stream",
     "text": [
      "{0: 'All', 1: 'Piwinski Smooth', 2: 'Piwinski Lattice', 3: 'Piwinski Lattice Modified', 4: 'Nagaitsev', 5: 'Nagaitsev Tailcut', 6: 'Zimmerman Simpson Decade Scaling', 7: 'Zimmerman Simpson Decade Scaling with Tailcut', 8: 'Bjorken-Mtingwa Standard Simpson', 9: 'Bjorken-Mtingwa Simpson Decade', 10: 'Bjorken-Mtingwa Simpson Decade Tailcut', 11: 'Conte-Martini Simpson Decade', 12: 'Conte-Martini Simpson Decade Tailcut', 13: 'Zimmerman Simpson Decade'}\n"
     ]
    }
   ],
   "source": [
    "from ibs import print_model_map\n",
    "print_model_map()"
   ]
  },
  {
   "cell_type": "code",
   "execution_count": 22,
   "metadata": {},
   "outputs": [],
   "source": [
    "# for the CLI command this is read from a json file\n",
    "sim_input= {\n",
    "    \"twissfile\": \"b2_design.twiss\",\n",
    "    \"harmon\": [\n",
    "        400.0\n",
    "    ],\n",
    "    \"voltages\": [\n",
    "        -1.5e6\n",
    "    ],\n",
    "    \"ex\": 7.5e-9,\n",
    "    \"ey\": 1e-10,\n",
    "    \"sigs\": 0.005,\n",
    "    \"model\": 1,\n",
    "    \"pnumber\": 1e10,\n",
    "    \"coupling\": 0,\n",
    "    \"threshold\": 1e-3,\n",
    "    \"outfile\": \"sim_test.csv\",\n",
    "    \"plotfile\": \"sim_test.png\"\n",
    "}"
   ]
  },
  {
   "cell_type": "code",
   "execution_count": 23,
   "metadata": {},
   "outputs": [
    {
     "name": "stdout",
     "output_type": "stream",
     "text": [
      "Synchrotron Tune : 6.390254e-03\n",
      " Synchrotron freq : 5.015421e+04\n",
      " Sige             : 6.984022e-04\n",
      " Radius max          : 4.08388714e-03\n",
      "Density             : 1.24561741e-05\n",
      "CONST               ; 1.13541624e+02\n",
      "ENERGY              ; 1.70000000e+00 GeV\n",
      "BETA                ; 9.99999955e-01\n",
      "GAMMA               ; 3.32681701e+03\n",
      "COULOMB LOG         ; 1.74257370e+01\n",
      "X-emittance         ; 5.90832712e-09 m*rad\n",
      "Y-emittance         ; 9.41556346e-14 m*rad\n",
      "Momentum spread     ; 6.98402090e-04\n",
      "Bunch length        ; 3.05455893e-03 m \n",
      "Particles per bunch ; 1.00000000e+10\n",
      "Bunch current       ; 2.00133521e-03 A\n",
      "Radius max          : 4.08388714e-03\n",
      "Density             : 1.24561699e-05\n",
      "CONST               ; 5.86572496e+01\n",
      "ENERGY              ; 1.70000000e+00 GeV\n",
      "BETA                ; 9.99999955e-01\n",
      "GAMMA               ; 3.32681701e+03\n",
      "COULOMB LOG         ; 9.00238847e+00\n",
      "X-emittance         ; 5.90832712e-09 m*rad\n",
      "Y-emittance         ; 9.41556346e-14 m*rad\n",
      "Momentum spread     ; 6.98402090e-04\n",
      "Bunch length        ; 3.05455893e-03 m \n",
      "Particles per bunch ; 1.00000000e+10\n",
      "Bunch current       ; 2.00133521e-03 A\n",
      "    r0                  ; 2.81794033e-15 m*rad\n",
      "    X-emittance         ; 5.90832712e-09 m*rad\n",
      "    Y-emittance         ; 9.41556346e-14 m*rad\n",
      "    SIGS                ; 3.05455893e-03 m*rad\n",
      "    SIGE                ; 1.00000000e-04 m*rad\n",
      "    ENERGY              : 1.70000000e+00\n",
      "    GAMMA               : 3.32681701e+03\n",
      "    CONST               : 7.39062138e+02\n",
      "    COULOMB LOG         : 1.62409518e+01\n",
      "\n",
      "Ring average values \n",
      "    betx   = 9.16428881e+00   bety   = 1.16281945e+01   Dx  = 7.86541414e-02   Dy  = 0.00000000e+00 \n",
      "\n",
      "    (Weighted) average rates (1/sec)\n",
      "    Longitudinal =    31375.064717\n",
      "    Horizontal   =      171.153605\n",
      "    Vertical     =     2485.116344\n",
      "\n",
      "    (Weighted) average lifetimes (sec)\n",
      "    Longitudinal =        0.000032\n",
      "    Horizontal   =        0.005843\n",
      "    Vertical     =        0.000402\n",
      "\u001b[1;36mRadiation Damping Times\n",
      "=======================\n",
      "Tau_rad_x            :         7.967527e-03 (s)\n",
      "Tau_rad_y            :         7.993224e-03 (s)\n",
      "Tau_rad_s            :         3.990177e-03 (s)\n",
      "\u001b[1;34m\n",
      "Longitudinal Parameters\n",
      "=======================\n",
      "Synchrotron Tune     :         6.390254e-03 ()\n",
      "Synchrotron Freq     :         5.015421e+04 (Hz)\n",
      "SigEOE2              :         4.877655e-07 ()\n",
      "SigEOE               :         6.984021e-04 ()\n",
      "eta                  :         7.316943e-04 ()\n",
      "Sigs                 :         5.000000e-03 ()\n",
      "Sigs_inf             :         3.054559e-03 ()\n",
      "SigE0                :         6.984021e-04 ()\n",
      "\u001b[1;36mSige0 - check        :         6.984021e-04 ()\n",
      "\u001b[0m\n",
      "    (Weighted) average rates - emittances (1/sec)\n",
      "    Longitudinal =        7.194518\n",
      "    Horizontal   =        0.170577\n",
      "    Vertical     =        0.006858\n",
      "\n",
      "    (Weighted) average growth - emittances (sec)\n",
      "    Longitudinal =        0.138995\n",
      "    Horizontal   =        5.862444\n",
      "    Vertical     =      145.810448\n",
      "\u001b[1;31m\n",
      "Max tau : 1.000000e+00\n",
      "dt      : 3.990177e-03\n",
      "Max step: 2506\n",
      "\n",
      "Coupling:     0.000000\n",
      "\n",
      "[>                                                                     ]0 %]0 %\n"
     ]
    }
   ],
   "source": [
    "twissheader = ibslib.GetTwissHeader(sim_input[\"twissfile\"])\n",
    "twisstable = ibslib.GetTwissTable(sim_input[\"twissfile\"])\n",
    "twisstable = ibslib.updateTwiss(twisstable)\n",
    "\n",
    "pnumber = 1e10\n",
    "ex = 5e-9\n",
    "ey = 1e-10\n",
    "sigs = 0.005\n",
    "\n",
    "t = [0.0]\n",
    "exa = [sim_input['ex']]\n",
    "eya = [sim_input['ey']]\n",
    "sigsa = [sim_input['sigs']]\n",
    "sigea = []\n",
    "harmon = [400.0]\n",
    "voltages = [-4.0 * 375e3]\n",
    "coupling = 0\n",
    "threshold = 1e-3\n",
    "\n",
    "res = ibslib.runODE(\n",
    "    twissheader,\n",
    "    twisstable,\n",
    "     sim_input[\"harmon\"],\n",
    "    sim_input[\"voltages\"],\n",
    "    t,\n",
    "    exa,\n",
    "    eya,\n",
    "    sigsa,\n",
    "    sigea,\n",
    "    sim_input[\"model\"],\n",
    "    sim_input[\"pnumber\"],\n",
    "    sim_input[\"coupling\"],\n",
    "    sim_input[\"threshold\"],\n",
    "    \"der\"\n",
    ")\n",
    "\n",
    "df = pd.DataFrame.from_dict(res, orient='columns')\n"
   ]
  },
  {
   "cell_type": "markdown",
   "metadata": {},
   "source": [
    "**Note**:\n",
    "\n",
    "The SigE0 in the above output are calculated using different methods (sigs_to_sige and using RF settings). Both results are included as a double check."
   ]
  },
  {
   "cell_type": "code",
   "execution_count": 24,
   "metadata": {},
   "outputs": [
    {
     "name": "stdout",
     "output_type": "stream",
     "text": [
      "plotting\n"
     ]
    },
    {
     "data": {
      "image/png": "[encoded data removed]",
      "text/plain": [
       "<Figure size 432x288 with 3 Axes>"
      ]
     },
     "metadata": {
      "needs_background": "light"
     },
     "output_type": "display_data"
    }
   ],
   "source": [
    "from ibs import plot\n",
    "plot(df,sim_input, save=False)"
   ]
  }
 ],
 "metadata": {
  "kernelspec": {
   "display_name": "Python [conda env:ibslibenv]",
   "language": "python",
   "name": "conda-env-ibslibenv-py"
  },
  "language_info": {
   "codemirror_mode": {
    "name": "ipython",
    "version": 3
   },
   "file_extension": ".py",
   "mimetype": "text/x-python",
   "name": "python",
   "nbconvert_exporter": "python",
   "pygments_lexer": "ipython3",
   "version": "3.8.10"
  },
  "latex_envs": {
   "LaTeX_envs_menu_present": true,
   "autoclose": false,
   "autocomplete": true,
   "bibliofile": "biblio.bib",
   "cite_by": "apalike",
   "current_citInitial": 1,
   "eqLabelWithNumbers": true,
   "eqNumInitial": 1,
   "hotkeys": {
    "equation": "Ctrl-E",
    "itemize": "Ctrl-I"
   },
   "labels_anchors": false,
   "latex_user_defs": false,
   "report_style_numbering": false,
   "user_envs_cfg": false
  },
  "toc": {
   "base_numbering": 1,
   "nav_menu": {},
   "number_sections": true,
   "sideBar": true,
   "skip_h1_title": false,
   "title_cell": "Table of Contents",
   "title_sidebar": "Contents",
   "toc_cell": false,
   "toc_position": {},
   "toc_section_display": true,
   "toc_window_display": false
  }
 },
 "nbformat": 4,
 "nbformat_minor": 4
}
