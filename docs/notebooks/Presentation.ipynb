{
 "cells": [
  {
   "cell_type": "code",
   "execution_count": 30,
   "metadata": {
    "slideshow": {
     "slide_type": "notes"
    }
   },
   "outputs": [
    {
     "data": {
      "text/html": [
       "<style>.container {width:95% !important;} </style>"
      ],
      "text/plain": [
       "<IPython.core.display.HTML object>"
      ]
     },
     "metadata": {},
     "output_type": "display_data"
    },
    {
     "name": "stdout",
     "output_type": "stream",
     "text": [
      "The autoreload extension is already loaded. To reload it, use:\n",
      "  %reload_ext autoreload\n"
     ]
    }
   ],
   "source": [
    "from IPython.core.display import display,HTML\n",
    "display(HTML(\"<style>.container {width:95% !important;} </style>\"))\n",
    "\n",
    "%load_ext autoreload\n",
    "%autoreload 2"
   ]
  },
  {
   "cell_type": "markdown",
   "metadata": {
    "cell_style": "split",
    "slideshow": {
     "slide_type": "slide"
    }
   },
   "source": [
    "# Tutorial IBS"
   ]
  },
  {
   "cell_type": "code",
   "execution_count": 2,
   "metadata": {
    "cell_style": "split",
    "slideshow": {
     "slide_type": "fragment"
    }
   },
   "outputs": [],
   "source": [
    "import IBSLib as ibslib\n",
    "import numpy as np\n",
    "import pandas as pd"
   ]
  },
  {
   "cell_type": "markdown",
   "metadata": {
    "cell_style": "center",
    "slideshow": {
     "slide_type": "slide"
    }
   },
   "source": [
    "## Physical Constants\n"
   ]
  },
  {
   "cell_type": "code",
   "execution_count": 3,
   "metadata": {
    "cell_style": "center",
    "slideshow": {
     "slide_type": "fragment"
    }
   },
   "outputs": [
    {
     "name": "stdout",
     "output_type": "stream",
     "text": [
      "Speed of light in m/s               : 2.99792458e+08\n",
      "Reduced Planck constant in GeV      : 6.58211957e-25\n",
      "Electron Mass in GeV                : 5.10998950e-04\n",
      "Proton Mass in GeV                  : 9.38272088e-01\n",
      "Neutron Mass in GeV                 : 9.39565421e-01\n",
      "Muon Mass in GeV                    : 1.05658375e-01\n",
      "Atomic Mass Unit in GeV             : 9.31494102e-01\n",
      "Pi                                  : 3.14159265e+00\n",
      "Electric Charge in Coulomb          : 1.60217663e-19\n",
      "Euler Constant                      : 5.77215665e-01\n",
      "Classical Electron Radius in m      : 2.81794033e-15\n",
      "Classical Proton Radius in m        : 1.53469827e-18\n"
     ]
    }
   ],
   "source": [
    "print(\"{:35} : {:12.8e}\".format(\"Speed of light in m/s\", ibslib.clight))\n",
    "print(\"{:35} : {:12.8e}\".format(\"Reduced Planck constant in GeV \", ibslib.hbarGeV))\n",
    "print(\"{:35} : {:12.8e}\".format(\"Electron Mass in GeV\", ibslib.electron_mass))\n",
    "print(\"{:35} : {:12.8e}\".format(\"Proton Mass in GeV\", ibslib.proton_mass))\n",
    "print(\"{:35} : {:12.8e}\".format(\"Neutron Mass in GeV\", ibslib.neutron_mass))\n",
    "print(\"{:35} : {:12.8e}\".format(\"Muon Mass in GeV\", ibslib.mu_mass))\n",
    "print(\"{:35} : {:12.8e}\".format(\"Atomic Mass Unit in GeV\", ibslib.atomic_mass_unit))\n",
    "print(\"{:35} : {:12.8e}\".format(\"Pi\", ibslib.pi))\n",
    "print(\"{:35} : {:12.8e}\".format(\"Electric Charge in Coulomb\", ibslib.electric_charge))\n",
    "print(\"{:35} : {:12.8e}\".format(\"Euler Constant\", ibslib.euler))\n",
    "print(\"{:35} : {:12.8e}\".format(\"Classical Electron Radius in m\", ibslib.electron_radius))\n",
    "print(\"{:35} : {:12.8e}\".format(\"Classical Proton Radius in m \", ibslib.proton_radius))\n"
   ]
  },
  {
   "cell_type": "markdown",
   "metadata": {
    "slideshow": {
     "slide_type": "slide"
    }
   },
   "source": [
    "## Twiss\n",
    "\n",
    "- Cpymad\n",
    "- from file\n",
    "    * read header\n",
    "    * read table\n",
    "    * update -> adds radiation integrals per element (I1,I2,I3,I4x,I4y,I5x,I5y)"
   ]
  },
  {
   "cell_type": "markdown",
   "metadata": {
    "slideshow": {
     "slide_type": "subslide"
    }
   },
   "source": [
    "### Cpymad"
   ]
  },
  {
   "cell_type": "code",
   "execution_count": 4,
   "metadata": {
    "slideshow": {
     "slide_type": "fragment"
    }
   },
   "outputs": [
    {
     "data": {
      "text/plain": [
       "{'sequence': 'RING', 'particle': 'ELECTRON', 'mass': 0.00051099895, 'charge': -1.0, 'energy': 1.7, 'pc': 1.699999923, 'gamma': 3326.817012, 'kbunch': 1.0, 'bcurrent': 2.001335116e-13, 'sige': 0.001, 'sigt': 1.0, 'npart': 1.0, 'ex': 1.0, 'ey': 1.0, 'et': 0.001, 'bv_flag': 1.0, 'length': 240.0, 'alfa': 0.0007316942746, 'orbit5': -0.0, 'gammatr': 36.9687845, 'q1': 17.84996563, 'q2': 6.743031469, 'dq1': 1.077745266, 'dq2': 1.371772348, 'dxmax': 0.4496533372, 'dymax': 0.0, 'xcomax': 0.0, 'ycomax': 0.0, 'betxmax': 17.43722837, 'betymax': 21.09492526, 'xcorms': 0.0, 'ycorms': 0.0, 'dxrms': 0.2272073799, 'dyrms': 0.0, 'deltap': 0.0, 'synch_1': 0.1756066259, 'synch_2': 1.442924619, 'synch_3': 0.3313655981, 'synch_4': -0.004653715528, 'synch_5': 0.001749753833}"
      ]
     },
     "execution_count": 4,
     "metadata": {},
     "output_type": "execute_result"
    }
   ],
   "source": [
    "from cpymad.madx import Madx\n",
    "\n",
    "lattice = \"BII_1996-01-01_design_v_1.seq\"\n",
    "tfsfile = \"b2_design.twiss\"\n",
    "\n",
    "mad = Madx()\n",
    "mad.option.echo = False\n",
    "mad.option.warn = False\n",
    "mad.command.beam(energy=1.7, particle='electron')\n",
    "mad.call(file=lattice)\n",
    "mad.use(sequence='ring')\n",
    "twiss = mad.twiss(file=tfsfile, chrom=True)\n",
    "twiss.summary"
   ]
  },
  {
   "cell_type": "markdown",
   "metadata": {
    "slideshow": {
     "slide_type": "subslide"
    }
   },
   "source": [
    "###  From File"
   ]
  },
  {
   "cell_type": "code",
   "execution_count": 5,
   "metadata": {
    "slideshow": {
     "slide_type": "fragment"
    }
   },
   "outputs": [
    {
     "data": {
      "text/plain": [
       "dict_keys(['ALFA', 'BCURRENT', 'BETXMAX', 'BETYMAX', 'BV_FLAG', 'CHARGE', 'DELTAP', 'DQ1', 'DQ2', 'DXMAX', 'DXRMS', 'DYMAX', 'DYRMS', 'ENERGY', 'ET', 'EX', 'EY', 'GAMMA', 'GAMMATR', 'KBUNCH', 'LENGTH', 'MASS', 'NPART', 'ORBIT5', 'PC', 'Q1', 'Q2', 'SIGE', 'SIGT', 'SYNCH_1', 'SYNCH_2', 'SYNCH_3', 'SYNCH_4', 'SYNCH_5', 'XCOMAX', 'XCORMS', 'YCOMAX', 'YCORMS'])"
      ]
     },
     "execution_count": 5,
     "metadata": {},
     "output_type": "execute_result"
    }
   ],
   "source": [
    "# read twiss summary / header as dictionary\n",
    "twissHeader = ibslib.GetTwissHeader(tfsfile)\n",
    "twissHeader.keys()"
   ]
  },
  {
   "cell_type": "code",
   "execution_count": 6,
   "metadata": {
    "slideshow": {
     "slide_type": "fragment"
    }
   },
   "outputs": [
    {
     "data": {
      "text/plain": [
       "dict_keys(['ALFX', 'ALFY', 'ANGLE', 'BETX', 'BETY', 'DPX', 'DPY', 'DX', 'DY', 'K1L', 'K1SL', 'L'])"
      ]
     },
     "execution_count": 6,
     "metadata": {},
     "output_type": "execute_result"
    }
   ],
   "source": [
    "# read twiss table as dictionary - only reads IBS relevant columns from Twiss (data reduction)\n",
    "twissTable = ibslib.GetTwissTable(tfsfile)\n",
    "twissTable.keys()"
   ]
  },
  {
   "cell_type": "code",
   "execution_count": 7,
   "metadata": {
    "slideshow": {
     "slide_type": "fragment"
    }
   },
   "outputs": [
    {
     "data": {
      "text/plain": [
       "dict_keys(['ALFX', 'ALFY', 'ANGLE', 'BETX', 'BETY', 'DPX', 'DPY', 'DX', 'DY', 'I1', 'I2', 'I3', 'I4x', 'I4y', 'I5x', 'I5y', 'K1L', 'K1SL', 'L', 'gammax', 'gammay', 'hx', 'hy', 'k', 'rho'])"
      ]
     },
     "execution_count": 7,
     "metadata": {},
     "output_type": "execute_result"
    }
   ],
   "source": [
    "# update Twiss with radiation integrals and related quantities needed later on (come back to this later)\n",
    "twissTable = ibslib.updateTwiss(twissTable)\n",
    "twissTable.keys()"
   ]
  },
  {
   "cell_type": "code",
   "execution_count": 8,
   "metadata": {
    "slideshow": {
     "slide_type": "fragment"
    }
   },
   "outputs": [
    {
     "name": "stdout",
     "output_type": "stream",
     "text": [
      "16.8602\n",
      "17.3272\n",
      "17.382\n",
      "17.4372\n",
      "12.1437\n",
      "9.41272\n",
      "6.93308\n",
      "4.92173\n",
      "2.80142\n",
      "0.988134\n",
      "0.803841\n",
      "2.4349\n",
      "3.85878\n",
      "7.29053\n",
      "9.52229\n",
      "14.3048\n",
      "16.6995\n",
      "16.6778\n",
      "16.6653\n",
      "16.654\n",
      "16.6394\n",
      "14.2024\n",
      "9.40131\n",
      "7.16668\n",
      "3.74428\n",
      "2.32885\n",
      "0.72913\n",
      "1.10602\n",
      "3.07841\n",
      "5.48473\n",
      "7.86307\n",
      "10.8148\n",
      "14.0817\n",
      "15.5822\n",
      "12.9317\n",
      "10.4275\n",
      "8.28888\n",
      "6.58412\n",
      "6.58412\n",
      "8.28888\n",
      "10.4275\n",
      "12.9317\n",
      "15.5822\n",
      "14.0817\n",
      "10.8148\n",
      "7.86307\n",
      "5.48473\n",
      "3.07841\n",
      "1.10602\n",
      "0.72913\n",
      "2.32885\n",
      "3.74428\n",
      "7.16668\n",
      "9.40131\n",
      "14.2024\n",
      "16.6394\n",
      "16.654\n",
      "16.6653\n",
      "16.6778\n",
      "16.6995\n",
      "14.3048\n",
      "9.52229\n",
      "7.29053\n",
      "3.85878\n",
      "2.4349\n",
      "0.803841\n",
      "0.988134\n",
      "2.80142\n",
      "4.92173\n",
      "6.93308\n",
      "9.41272\n",
      "12.1437\n",
      "17.4372\n",
      "17.382\n",
      "17.3272\n",
      "17.3272\n",
      "17.382\n",
      "17.4372\n",
      "12.1437\n",
      "9.41272\n",
      "6.93308\n",
      "4.92173\n",
      "2.80142\n",
      "0.988134\n",
      "0.803841\n",
      "2.4349\n",
      "3.85878\n",
      "7.29053\n",
      "9.52229\n",
      "14.3048\n",
      "16.6995\n",
      "16.6778\n",
      "16.6653\n",
      "16.654\n",
      "16.6394\n",
      "14.2024\n",
      "9.40131\n",
      "7.16668\n",
      "3.74428\n",
      "2.32885\n",
      "0.72913\n",
      "1.10602\n",
      "3.07841\n",
      "5.48473\n",
      "7.86307\n",
      "10.8148\n",
      "14.0817\n",
      "15.5822\n",
      "12.9317\n",
      "10.4275\n",
      "8.28888\n",
      "6.58412\n",
      "6.58412\n",
      "8.28888\n",
      "10.4275\n",
      "12.9317\n",
      "15.5822\n",
      "14.0817\n",
      "10.8148\n",
      "7.86307\n",
      "5.48473\n",
      "3.07841\n",
      "1.10602\n",
      "0.72913\n",
      "2.32885\n",
      "3.74428\n",
      "7.16668\n",
      "9.40131\n",
      "14.2024\n",
      "16.6394\n",
      "16.654\n",
      "16.6653\n",
      "16.6778\n",
      "16.6995\n",
      "14.3048\n",
      "9.52229\n",
      "7.29053\n",
      "3.85878\n",
      "2.4349\n",
      "0.803841\n",
      "0.988134\n",
      "2.80142\n",
      "4.92173\n",
      "6.93308\n",
      "9.41272\n",
      "12.1437\n",
      "17.4372\n",
      "17.382\n",
      "17.3272\n",
      "17.3272\n",
      "17.382\n",
      "17.4372\n",
      "12.1437\n",
      "9.41272\n",
      "6.93308\n",
      "4.92173\n",
      "2.80142\n",
      "0.988134\n",
      "0.803841\n",
      "2.4349\n",
      "3.85878\n",
      "7.29053\n",
      "9.52229\n",
      "14.3048\n",
      "16.6995\n",
      "16.6778\n",
      "16.6653\n",
      "16.654\n",
      "16.6394\n",
      "14.2024\n",
      "9.40131\n",
      "7.16668\n",
      "3.74428\n",
      "2.32885\n",
      "0.72913\n",
      "1.10602\n",
      "3.07841\n",
      "5.48473\n",
      "7.86307\n",
      "10.8148\n",
      "14.0817\n",
      "15.5822\n",
      "12.9317\n",
      "10.4275\n",
      "8.28888\n",
      "6.58412\n",
      "6.58412\n",
      "8.28888\n",
      "10.4275\n",
      "12.9317\n",
      "15.5822\n",
      "14.0817\n",
      "10.8148\n",
      "7.86307\n",
      "5.48473\n",
      "3.07841\n",
      "1.10602\n",
      "0.72913\n",
      "2.32885\n",
      "3.74428\n",
      "7.16668\n",
      "9.40131\n",
      "14.2024\n",
      "16.6394\n",
      "16.654\n",
      "16.6653\n",
      "16.6778\n",
      "16.6995\n",
      "14.3048\n",
      "9.52229\n",
      "7.29053\n",
      "3.85878\n",
      "2.4349\n",
      "0.803841\n",
      "0.988134\n",
      "2.80142\n",
      "4.92173\n",
      "6.93308\n",
      "9.41272\n",
      "12.1437\n",
      "17.4372\n",
      "17.382\n",
      "17.3272\n",
      "17.3272\n",
      "17.382\n",
      "17.4372\n",
      "12.1437\n",
      "9.41272\n",
      "6.93308\n",
      "4.92173\n",
      "2.80142\n",
      "0.988134\n",
      "0.803841\n",
      "2.4349\n",
      "3.85878\n",
      "7.29053\n",
      "9.52229\n",
      "14.3048\n",
      "16.6995\n",
      "16.6778\n",
      "16.6653\n",
      "16.654\n",
      "16.6394\n",
      "14.2024\n",
      "9.40131\n",
      "7.16668\n",
      "3.74428\n",
      "2.32885\n",
      "0.72913\n",
      "1.10602\n",
      "3.07841\n",
      "5.48473\n",
      "7.86307\n",
      "10.8148\n",
      "14.0817\n",
      "15.5822\n",
      "12.9317\n",
      "10.4275\n",
      "8.28888\n",
      "6.58412\n",
      "6.58412\n",
      "8.28888\n",
      "10.4275\n",
      "12.9317\n",
      "15.5822\n",
      "14.0817\n",
      "10.8148\n",
      "7.86307\n",
      "5.48473\n",
      "3.07841\n",
      "1.10602\n",
      "0.72913\n",
      "2.32885\n",
      "3.74428\n",
      "7.16668\n",
      "9.40131\n",
      "14.2024\n",
      "16.6394\n",
      "16.654\n",
      "16.6653\n",
      "16.6778\n",
      "16.6995\n",
      "14.3048\n",
      "9.52229\n",
      "7.29053\n",
      "3.85878\n",
      "2.4349\n",
      "0.803841\n",
      "0.988134\n",
      "2.80142\n",
      "4.92173\n",
      "6.93308\n",
      "9.41272\n",
      "12.1437\n",
      "17.4372\n",
      "17.382\n",
      "17.3272\n",
      "17.3272\n",
      "17.382\n",
      "17.4372\n",
      "12.1437\n",
      "9.41272\n",
      "6.93308\n",
      "4.92173\n",
      "2.80142\n",
      "0.988134\n",
      "0.803841\n",
      "2.4349\n",
      "3.85878\n",
      "7.29053\n",
      "9.52229\n",
      "14.3048\n",
      "16.6995\n",
      "16.6778\n",
      "16.6653\n",
      "16.654\n",
      "16.6394\n",
      "14.2024\n",
      "9.40131\n",
      "7.16668\n",
      "3.74428\n",
      "2.32885\n",
      "0.72913\n",
      "1.10602\n",
      "3.07841\n",
      "5.48473\n",
      "7.86307\n",
      "10.8148\n",
      "14.0817\n",
      "15.5822\n",
      "12.9317\n",
      "10.4275\n",
      "8.28888\n",
      "6.58412\n",
      "6.58412\n",
      "8.28888\n",
      "10.4275\n",
      "12.9317\n",
      "15.5822\n",
      "14.0817\n",
      "10.8148\n",
      "7.86307\n",
      "5.48473\n",
      "3.07841\n",
      "1.10602\n",
      "0.72913\n",
      "2.32885\n",
      "3.74428\n",
      "7.16668\n",
      "9.40131\n",
      "14.2024\n",
      "16.6394\n",
      "16.654\n",
      "16.6653\n",
      "16.6778\n",
      "16.6995\n",
      "14.3048\n",
      "9.52229\n",
      "7.29053\n",
      "3.85878\n",
      "2.4349\n",
      "0.803841\n",
      "0.988134\n",
      "2.80142\n",
      "4.92173\n",
      "6.93308\n",
      "9.41272\n",
      "12.1437\n",
      "17.4372\n",
      "17.382\n",
      "17.3272\n",
      "17.3272\n",
      "17.382\n",
      "17.4372\n",
      "12.1437\n",
      "9.41272\n",
      "6.93308\n",
      "4.92173\n",
      "2.80142\n",
      "0.988134\n",
      "0.803841\n",
      "2.4349\n",
      "3.85878\n",
      "7.29053\n",
      "9.52229\n",
      "14.3048\n",
      "16.6995\n",
      "16.6778\n",
      "16.6653\n",
      "16.654\n",
      "16.6394\n",
      "14.2024\n",
      "9.40131\n",
      "7.16668\n",
      "3.74428\n",
      "2.32885\n",
      "0.72913\n",
      "1.10602\n",
      "3.07841\n",
      "5.48473\n",
      "7.86307\n",
      "10.8148\n",
      "14.0817\n",
      "15.5822\n",
      "12.9317\n",
      "10.4275\n",
      "8.28888\n",
      "6.58412\n",
      "6.58412\n",
      "8.28888\n",
      "10.4275\n",
      "12.9317\n",
      "15.5822\n",
      "14.0817\n",
      "10.8148\n",
      "7.86307\n",
      "5.48473\n",
      "3.07841\n",
      "1.10602\n",
      "0.72913\n",
      "2.32885\n",
      "3.74428\n",
      "7.16668\n",
      "9.40131\n",
      "14.2024\n",
      "16.6394\n",
      "16.654\n",
      "16.6653\n",
      "16.6778\n",
      "16.6995\n",
      "14.3048\n",
      "9.52229\n",
      "7.29053\n",
      "3.85878\n",
      "2.4349\n",
      "0.803841\n",
      "0.988134\n",
      "2.80142\n",
      "4.92173\n",
      "6.93308\n",
      "9.41272\n",
      "12.1437\n",
      "17.4372\n",
      "17.382\n",
      "17.3272\n",
      "17.3272\n",
      "17.382\n",
      "17.4372\n",
      "12.1437\n",
      "9.41272\n",
      "6.93308\n",
      "4.92173\n",
      "2.80142\n",
      "0.988134\n",
      "0.803841\n",
      "2.4349\n",
      "3.85878\n",
      "7.29053\n",
      "9.52229\n",
      "14.3048\n",
      "16.6995\n",
      "16.6778\n",
      "16.6653\n",
      "16.654\n",
      "16.6394\n",
      "14.2024\n",
      "9.40131\n",
      "7.16668\n",
      "3.74428\n",
      "2.32885\n",
      "0.72913\n",
      "1.10602\n",
      "3.07841\n",
      "5.48473\n",
      "7.86307\n",
      "10.8148\n",
      "14.0817\n",
      "15.5822\n",
      "12.9317\n",
      "10.4275\n",
      "8.28888\n",
      "6.58412\n",
      "6.58412\n",
      "8.28888\n",
      "10.4275\n",
      "12.9317\n",
      "15.5822\n",
      "14.0817\n",
      "10.8148\n",
      "7.86307\n",
      "5.48473\n",
      "3.07841\n",
      "1.10602\n",
      "0.72913\n",
      "2.32885\n",
      "3.74428\n",
      "7.16668\n",
      "9.40131\n",
      "14.2024\n",
      "16.6394\n",
      "16.654\n",
      "16.6653\n",
      "16.6778\n",
      "16.6995\n",
      "14.3048\n",
      "9.52229\n",
      "7.29053\n",
      "3.85878\n",
      "2.4349\n",
      "0.803841\n",
      "0.988134\n",
      "2.80142\n",
      "4.92173\n",
      "6.93308\n",
      "9.41272\n",
      "12.1437\n",
      "17.4372\n",
      "17.382\n",
      "17.3272\n",
      "17.3272\n",
      "17.382\n",
      "17.4372\n",
      "12.1437\n",
      "9.41272\n",
      "6.93308\n",
      "4.92173\n",
      "2.80142\n",
      "0.988134\n",
      "0.803841\n",
      "2.4349\n",
      "3.85878\n",
      "7.29053\n",
      "9.52229\n",
      "14.3048\n",
      "16.6995\n",
      "16.6778\n",
      "16.6653\n",
      "16.654\n",
      "16.6394\n",
      "14.2024\n",
      "9.40131\n",
      "7.16668\n",
      "3.74428\n",
      "2.32885\n",
      "0.72913\n",
      "1.10602\n",
      "3.07841\n",
      "5.48473\n",
      "7.86307\n",
      "10.8148\n",
      "14.0817\n",
      "15.5822\n",
      "12.9317\n",
      "10.4275\n",
      "8.28888\n",
      "6.58412\n",
      "6.58412\n",
      "8.28888\n",
      "10.4275\n",
      "12.9317\n",
      "15.5822\n",
      "14.0817\n",
      "10.8148\n",
      "7.86307\n",
      "5.48473\n",
      "3.07841\n",
      "1.10602\n",
      "0.72913\n",
      "2.32885\n",
      "3.74428\n",
      "7.16668\n",
      "9.40131\n",
      "14.2024\n",
      "16.6394\n",
      "16.654\n",
      "16.6653\n",
      "16.6778\n",
      "16.6995\n",
      "14.3048\n",
      "9.52229\n",
      "7.29053\n",
      "3.85878\n",
      "2.4349\n",
      "0.803841\n",
      "0.988134\n",
      "2.80142\n",
      "4.92173\n",
      "6.93308\n",
      "9.41272\n",
      "12.1437\n",
      "17.4372\n",
      "17.382\n",
      "17.3272\n",
      "16.8602\n",
      "16.8602\n"
     ]
    }
   ],
   "source": [
    "# print values of twiss column\n",
    "ibslib.printTwissColumn(\"BETX\",twissTable)"
   ]
  },
  {
   "cell_type": "markdown",
   "metadata": {
    "slideshow": {
     "slide_type": "slide"
    }
   },
   "source": [
    "## Radiation Damping\n",
    "- RadiationDampingApprox\n",
    "- RadiationDampingLattice\n",
    "- RadiationDampingEquilibria"
   ]
  },
  {
   "cell_type": "markdown",
   "metadata": {
    "slideshow": {
     "slide_type": "subslide"
    }
   },
   "source": [
    "###  Radiation Damping Approx\n",
    "\n",
    "Uses ring averages (Tunes -> beta average, average bending radius, etc...)"
   ]
  },
  {
   "cell_type": "code",
   "execution_count": 9,
   "metadata": {
    "slideshow": {
     "slide_type": "fragment"
    }
   },
   "outputs": [
    {
     "data": {
      "text/plain": [
       "array([1.540409  , 1.44292462, 0.3313656 , 0.        , 0.        ,\n",
       "       0.07523688, 0.        ])"
      ]
     },
     "execution_count": 9,
     "metadata": {},
     "output_type": "execute_result"
    }
   ],
   "source": [
    "df     = pd.DataFrame.from_dict(twissTable,orient='columns')\n",
    "rhoAvg = df.loc[df.rho != 0.0,'rho'].mean()\n",
    "\n",
    "gamma    = twissHeader['GAMMA']\n",
    "gamma_tr = twissHeader['GAMMATR']\n",
    "circ     = twissHeader['LENGTH']\n",
    "\n",
    "bxAvg = circ / (2.0 * ibslib.pi * twissHeader[\"Q1\"]); \n",
    "byAvg = circ / (2.0 * ibslib.pi * twissHeader[\"Q2\"]);\n",
    "\n",
    "radint = np.zeros(7)\n",
    "ibslib.RadiationDampingApprox(circ, gamma, gamma_tr, rhoAvg, bxAvg, byAvg, radint);\n",
    "radint"
   ]
  },
  {
   "cell_type": "markdown",
   "metadata": {
    "slideshow": {
     "slide_type": "subslide"
    }
   },
   "source": [
    "### Radiation Damping Lattice\n",
    "\n",
    "Uses Twiss Table"
   ]
  },
  {
   "cell_type": "code",
   "execution_count": 10,
   "metadata": {
    "slideshow": {
     "slide_type": "fragment"
    }
   },
   "outputs": [
    {
     "data": {
      "text/plain": [
       "array([ 0.26299979,  1.44292462,  0.3313656 , -0.00465372,  0.        ,\n",
       "        0.00201665,  0.        ])"
      ]
     },
     "execution_count": 10,
     "metadata": {},
     "output_type": "execute_result"
    }
   ],
   "source": [
    "ibslib.RadiationDampingLattice(twissTable, radint)\n",
    "radint"
   ]
  },
  {
   "cell_type": "markdown",
   "metadata": {
    "slideshow": {
     "slide_type": "subslide"
    }
   },
   "source": [
    "### Radiation damping Equilibria\n",
    "\n",
    "Values are used in the ODE simulations!!"
   ]
  },
  {
   "cell_type": "code",
   "execution_count": 11,
   "metadata": {
    "slideshow": {
     "slide_type": "fragment"
    }
   },
   "outputs": [
    {
     "name": "stdout",
     "output_type": "stream",
     "text": [
      "Energy Loss per Turn : 1.702619e+05 (eV)\n",
      "\n",
      "Taux       : 7.967527e-03 (s)\n",
      "Tauy       : 7.993224e-03 (s)\n",
      "Taus       : 3.990177e-03 (s)\n",
      "exinf      : 5.908327e-09 ()\n",
      "eyinf      : 9.415563e-14 ()\n",
      "sigeoe2    : 4.877655e-07 ()\n",
      "sigtinf    : 3.054559e-03 ()\n",
      "jx         : 1.003225e+00 ()\n",
      "jy         : 1.000000e+00 ()\n"
     ]
    }
   ],
   "source": [
    "gamma   = twissHeader.get('GAMMA')\n",
    "pc      = twissHeader.get('PC')\n",
    "gammatr = twissHeader.get('GAMMATR')\n",
    "mass    = twissHeader.get('MASS')\n",
    "charge  = twissHeader.get('CHARGE')\n",
    "q1      = twissHeader.get('Q1')\n",
    "l       = twissHeader.get('LENGTH')\n",
    "\n",
    "aatom   = ibslib.electron_mass / ibslib.proton_mass\n",
    "betar   = ibslib.beta_relativistic_from_gamma(gamma) # see numeric functions\n",
    "r0      = ibslib.particle_radius(1, aatom) # see numeric functions\n",
    "trev    = l / (betar * ibslib.clight)\n",
    "frev    = 1.0 / trev\n",
    "omega   = 2.0 * ibslib.pi * frev\n",
    "eta     = ibslib.eta(gamma, gammatr)\n",
    "epsilon = 1.0e-6 # accuracy for synchronuous phase search\n",
    "\n",
    "radint = np.zeros(7)\n",
    "ibslib.RadiationDampingLattice(twissTable, radint)\n",
    "\n",
    "target_energy_gain_ev    = 0.0\n",
    "intial_phis_search_value = 173\n",
    "harmon                   = [400.0]\n",
    "voltages                 = [-4. * 375000.]\n",
    "\n",
    "# methods below are described/ demonstrated in the numeric functions part\n",
    "U0     = ibslib.get_energy_loss_per_turn(twissHeader, radint[1], aatom) \n",
    "phis   = ibslib.get_synchronuous_phase(target_energy_gain_ev, intial_phis_search_value, U0, charge, harmon,voltages,epsilon)\n",
    "qs     = ibslib.get_synchrotron_tune(omega, U0, charge, harmon, voltages, phis, eta, pc)\n",
    "omegas = qs * omega\n",
    "\n",
    "equi = np.zeros(9)\n",
    "ibslib.RadiationDampingEquilibria(twissHeader, radint, aatom, qs, equi)\n",
    "print(\"{:10} : {:10.6e} ({})\\n\".format(\"Energy Loss per Turn\", U0, \"eV\"));\n",
    "print(\"{:10} : {:10.6e} ({})\".format(\"Taux\", equi[0], \"s\"));\n",
    "print(\"{:10} : {:10.6e} ({})\".format(\"Tauy\", equi[1], \"s\"));\n",
    "print(\"{:10} : {:10.6e} ({})\".format(\"Taus\", equi[2], \"s\"));\n",
    "print(\"{:10} : {:10.6e} ({})\".format(\"exinf\", equi[3], \"\"));\n",
    "print(\"{:10} : {:10.6e} ({})\".format(\"eyinf\", equi[4], \"\"));\n",
    "print(\"{:10} : {:10.6e} ({})\".format(\"sigeoe2\", equi[5], \"\"));\n",
    "print(\"{:10} : {:10.6e} ({})\".format(\"sigtinf\", equi[6], \"\"));\n",
    "print(\"{:10} : {:10.6e} ({})\".format(\"jx\", equi[7], \"\"));\n",
    "print(\"{:10} : {:10.6e} ({})\".format(\"jy\", equi[8], \"\"))"
   ]
  },
  {
   "cell_type": "markdown",
   "metadata": {
    "slideshow": {
     "slide_type": "slide"
    }
   },
   "source": [
    "## Numeric Functions\n",
    "\n",
    "- Standard util functions\n",
    "- Longitudinal / RF\n",
    "- IBS specific numeric functions"
   ]
  },
  {
   "cell_type": "markdown",
   "metadata": {
    "slideshow": {
     "slide_type": "subslide"
    }
   },
   "source": [
    "### Standard functions"
   ]
  },
  {
   "cell_type": "code",
   "execution_count": 12,
   "metadata": {
    "slideshow": {
     "slide_type": "fragment"
    }
   },
   "outputs": [
    {
     "data": {
      "text/plain": [
       "(0.999999954823541,\n",
       " 0.0007316942747206528,\n",
       " 2.8179403262e-15,\n",
       " 0.0006984020902062896,\n",
       " 0.0006984021532869811,\n",
       " 0.0006984020902063293)"
      ]
     },
     "execution_count": 12,
     "metadata": {},
     "output_type": "execute_result"
    }
   ],
   "source": [
    "betar   = ibslib.beta_relativistic_from_gamma(gamma)\n",
    "eta     = ibslib.eta(gamma, gammatr)\n",
    "r0      = ibslib.particle_radius(1, aatom)\n",
    "\n",
    "sige    = np.sqrt(equi[5])\n",
    "dpop    = ibslib.dee_to_dpp(sige, betar)\n",
    "deoe    = ibslib.dpp_to_dee(dpop, betar)\n",
    "betar, eta, r0, sige, dpop, deoe"
   ]
  },
  {
   "cell_type": "markdown",
   "metadata": {
    "slideshow": {
     "slide_type": "subslide"
    }
   },
   "source": [
    "### Longitudinal / RF\n",
    "- sigs_from_sige\n",
    "- sige_from_sigs\n",
    "- rf_voltage_in_eV - energy gain in eV -> to be able to find $\\phi_s$\n",
    "- rf_voltage_in_ev_prime - derivative of rf_voltage_in_eV \n",
    "- rf_voltage_in_ev_with_rad_losses\n",
    "- get_synchronuous_phase\n",
    "- rf_voltage_with_potential_well_distortion\n",
    "- rf_voltage_with_potential_well_distortion_prime\n",
    "- get_synchronuous_phase_with_potential_well_distortion\n",
    "- get_synchrotron_tune\n",
    "- get_synchrotron_tune_with_potential_well\n",
    "- sige_form_sigs_using_rf"
   ]
  },
  {
   "cell_type": "code",
   "execution_count": 14,
   "metadata": {
    "slideshow": {
     "slide_type": "fragment"
    }
   },
   "outputs": [
    {
     "data": {
      "text/plain": [
       "(0.003054558934794126, 0.0006984020902062896)"
      ]
     },
     "execution_count": 14,
     "metadata": {},
     "output_type": "execute_result"
    }
   ],
   "source": [
    "# sigma_s from sigma_e\n",
    "sigs = ibslib.sigs_from_sige(sige, gamma, gammatr, omegas)\n",
    "sigs, sige"
   ]
  },
  {
   "cell_type": "code",
   "execution_count": 15,
   "metadata": {
    "slideshow": {
     "slide_type": "fragment"
    }
   },
   "outputs": [
    {
     "data": {
      "text/plain": [
       "(0.003054558934794126, 0.0006984020902062895)"
      ]
     },
     "execution_count": 15,
     "metadata": {},
     "output_type": "execute_result"
    }
   ],
   "source": [
    "# sigma_e from sigma_s\n",
    "sigen = ibslib.sige_from_sigs(omega, sigs, qs, gamma, gammatr)\n",
    "sigs,sigen"
   ]
  },
  {
   "cell_type": "code",
   "execution_count": 21,
   "metadata": {},
   "outputs": [
    {
     "data": {
      "text/plain": [
       "(182804.01510772132, -1488819.227461983)"
      ]
     },
     "execution_count": 21,
     "metadata": {},
     "output_type": "execute_result"
    }
   ],
   "source": [
    "phi = 173\n",
    "ibslib.rf_voltage_in_ev(phi, charge, harmon,voltages), ibslib.rf_voltage_in_ev_prime(phi, charge, harmon,voltages)"
   ]
  },
  {
   "cell_type": "code",
   "execution_count": 22,
   "metadata": {},
   "outputs": [
    {
     "data": {
      "text/plain": [
       "12542.106380552286"
      ]
     },
     "execution_count": 22,
     "metadata": {},
     "output_type": "execute_result"
    }
   ],
   "source": [
    "# offset to be on synchronuous phase\n",
    "ibslib.rf_voltage_in_ev_with_rad_losses(phi, charge, U0, harmon, voltages)"
   ]
  },
  {
   "cell_type": "code",
   "execution_count": 24,
   "metadata": {},
   "outputs": [
    {
     "data": {
      "text/plain": [
       "(173, 173.48242725610714, 9.92469722405076e-07)"
      ]
     },
     "execution_count": 24,
     "metadata": {},
     "output_type": "execute_result"
    }
   ],
   "source": [
    "# synchronuous phase\n",
    "phis   = ibslib.get_synchronuous_phase(target_energy_gain_ev, intial_phis_search_value, U0, charge, harmon,voltages,epsilon)\n",
    "intial_phis_search_value, phis, ibslib.rf_voltage_in_ev_with_rad_losses(phis, charge, U0, harmon, voltages)"
   ]
  },
  {
   "cell_type": "code",
   "execution_count": 26,
   "metadata": {},
   "outputs": [
    {
     "data": {
      "text/plain": [
       "0.006390253850181927"
      ]
     },
     "execution_count": 26,
     "metadata": {},
     "output_type": "execute_result"
    }
   ],
   "source": [
    "# synchrotron tune \n",
    "ibslib.get_synchrotron_tune(omega, U0, charge, harmon, voltages, phis, eta, pc)"
   ]
  },
  {
   "cell_type": "code",
   "execution_count": 29,
   "metadata": {},
   "outputs": [
    {
     "data": {
      "text/plain": [
       "(0.0006984021533089606, 0.0006984020902062896)"
      ]
     },
     "execution_count": 29,
     "metadata": {},
     "output_type": "execute_result"
    }
   ],
   "source": [
    "ibslib.sige_form_sigs_using_rf(sigs, U0, charge, harmon, voltages, gamma,gammatr, pc, circ, phis, True), sige"
   ]
  },
  {
   "cell_type": "markdown",
   "metadata": {},
   "source": [
    "### IBS specific"
   ]
  },
  {
   "cell_type": "code",
   "execution_count": 32,
   "metadata": {},
   "outputs": [
    {
     "data": {
      "text/plain": [
       "(-5.404172967883226, 0.29046028102188937)"
      ]
     },
     "execution_count": 32,
     "metadata": {},
     "output_type": "execute_result"
    }
   ],
   "source": [
    "# numeric functions used in IBS growth rate calculations\n",
    "ibslib.fmohl(1.,2.,3.,1000), ibslib.rds(1.0,2.0,3.0)"
   ]
  },
  {
   "cell_type": "markdown",
   "metadata": {},
   "source": [
    "## Coulomb Log\n",
    "- twclog\n",
    "- twclogtail\n",
    "- coulomblog\n",
    "- coulomblogtail\n",
    "\n",
    "The first two methods are used in the simulation and are designed to be applied on an element by element basis. \n",
    "The second two use ring averages and can be used to get an idea of the values."
   ]
  },
  {
   "cell_type": "code",
   "execution_count": 41,
   "metadata": {},
   "outputs": [
    {
     "name": "stdout",
     "output_type": "stream",
     "text": [
      "Coulomb Log               : 1.896855e+01\n",
      "Coulomb IBS pre-factor    : 2.444649e-02\n"
     ]
    }
   ],
   "source": [
    "pnumber = 1.0e10\n",
    "restE   = twissHeader['ENERGY']\n",
    "clog    = np.zeros(2)\n",
    "\n",
    "bx  = twissTable['BETX'][23]\n",
    "by  = twissTable['BETY'][23]\n",
    "dx  = twissTable['DX'][23]\n",
    "dy  = twissTable['DY'][23]\n",
    "ex  = 7.5e-9\n",
    "ey  = ex * 0.05\n",
    "\n",
    "ibslib.twclog(pnumber, bx, by, dx, dy, ex, ey, r0, gamma, charge, restE, mass, sige, sigs, clog )\n",
    "\n",
    "print(\"{:25} : {:12.6e}\".format(\"Coulomb Log\",clog[0]))\n",
    "print(\"{:25} : {:12.6e}\".format(\"Coulomb IBS pre-factor\",clog[1]))"
   ]
  },
  {
   "cell_type": "code",
   "execution_count": null,
   "metadata": {},
   "outputs": [],
   "source": []
  }
 ],
 "metadata": {
  "celltoolbar": "Slideshow",
  "kernelspec": {
   "display_name": "Python [conda env:ibslibenv]",
   "language": "python",
   "name": "conda-env-ibslibenv-py"
  },
  "language_info": {
   "codemirror_mode": {
    "name": "ipython",
    "version": 3
   },
   "file_extension": ".py",
   "mimetype": "text/x-python",
   "name": "python",
   "nbconvert_exporter": "python",
   "pygments_lexer": "ipython3",
   "version": "3.8.10"
  },
  "latex_envs": {
   "LaTeX_envs_menu_present": true,
   "autoclose": false,
   "autocomplete": true,
   "bibliofile": "biblio.bib",
   "cite_by": "apalike",
   "current_citInitial": 1,
   "eqLabelWithNumbers": true,
   "eqNumInitial": 1,
   "hotkeys": {
    "equation": "Ctrl-E",
    "itemize": "Ctrl-I"
   },
   "labels_anchors": false,
   "latex_user_defs": false,
   "report_style_numbering": false,
   "user_envs_cfg": false
  },
  "toc": {
   "base_numbering": 1,
   "nav_menu": {},
   "number_sections": true,
   "sideBar": true,
   "skip_h1_title": false,
   "title_cell": "Table of Contents",
   "title_sidebar": "Contents",
   "toc_cell": false,
   "toc_position": {},
   "toc_section_display": true,
   "toc_window_display": false
  }
 },
 "nbformat": 4,
 "nbformat_minor": 4
}
