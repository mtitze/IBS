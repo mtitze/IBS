{
 "cells": [
  {
   "cell_type": "code",
   "execution_count": 1,
   "metadata": {
    "slideshow": {
     "slide_type": "notes"
    }
   },
   "outputs": [
    {
     "data": {
      "text/html": [
       "<style>.container {width:95% !important;} </style>"
      ],
      "text/plain": [
       "<IPython.core.display.HTML object>"
      ]
     },
     "metadata": {},
     "output_type": "display_data"
    }
   ],
   "source": [
    "from IPython.core.display import display,HTML\n",
    "display(HTML(\"<style>.container {width:95% !important;} </style>\"))\n",
    "\n",
    "%load_ext autoreload\n",
    "%autoreload 2"
   ]
  },
  {
   "cell_type": "markdown",
   "metadata": {
    "cell_style": "split",
    "slideshow": {
     "slide_type": "slide"
    }
   },
   "source": [
    "# Tutorial IBS"
   ]
  },
  {
   "cell_type": "code",
   "execution_count": 2,
   "metadata": {
    "cell_style": "split",
    "slideshow": {
     "slide_type": "fragment"
    }
   },
   "outputs": [],
   "source": [
    "import IBSLib as ibslib\n",
    "import numpy as np\n",
    "import pandas as pd"
   ]
  },
  {
   "cell_type": "code",
   "execution_count": 3,
   "metadata": {
    "slideshow": {
     "slide_type": "fragment"
    }
   },
   "outputs": [
    {
     "name": "stdout",
     "output_type": "stream",
     "text": [
      "Help on module IBSLib:\n",
      "\n",
      "NAME\n",
      "    IBSLib - IBS library\n",
      "\n",
      "FUNCTIONS\n",
      "    BjorkenMtingwaSimpson(...) method of builtins.PyCapsule instance\n",
      "        BjorkenMtingwaSimpson(arg0: float, arg1: float, arg2: float, arg3: float, arg4: float, arg5: Dict[str, float], arg6: Dict[str, List[float]], arg7: float, arg8: bool, arg9: numpy.ndarray[numpy.float64]) -> None\n",
      "        \n",
      "        Bjorken-Mtingwa using Standard Simpson integration.\n",
      "    \n",
      "    BjorkenMtingwaSimpsonDecade(...) method of builtins.PyCapsule instance\n",
      "        BjorkenMtingwaSimpsonDecade(arg0: float, arg1: float, arg2: float, arg3: float, arg4: float, arg5: Dict[str, float], arg6: Dict[str, List[float]], arg7: float, arg8: bool, arg9: numpy.ndarray[numpy.float64]) -> None\n",
      "        \n",
      "        Bjorken-Mtingwa using Simpson Decade integration.\n",
      "    \n",
      "    BjorkenMtingwaTailcutSimpsonDecade(...) method of builtins.PyCapsule instance\n",
      "        BjorkenMtingwaTailcutSimpsonDecade(arg0: float, arg1: float, arg2: float, arg3: float, arg4: float, arg5: Dict[str, float], arg6: Dict[str, List[float]], arg7: float, arg8: bool, arg9: numpy.ndarray[numpy.float64]) -> None\n",
      "        \n",
      "        Bjorken-Mtingwa using Simpson Decade integration with Tailcut\n",
      "    \n",
      "    ConteMartiniSimpsonDecade(...) method of builtins.PyCapsule instance\n",
      "        ConteMartiniSimpsonDecade(arg0: float, arg1: float, arg2: float, arg3: float, arg4: float, arg5: Dict[str, float], arg6: Dict[str, List[float]], arg7: float, arg8: bool, arg9: numpy.ndarray[numpy.float64]) -> None\n",
      "        \n",
      "        Conte-Martini using Simpson Decade integration.\n",
      "    \n",
      "    ConteMartiniTailcutSimpsonDecade(...) method of builtins.PyCapsule instance\n",
      "        ConteMartiniTailcutSimpsonDecade(arg0: float, arg1: float, arg2: float, arg3: float, arg4: float, arg5: Dict[str, float], arg6: Dict[str, List[float]], arg7: float, arg8: bool, arg9: numpy.ndarray[numpy.float64]) -> None\n",
      "        \n",
      "        Conte-Martini using Simpson Decade integration with Tailcut\n",
      "    \n",
      "    GetTwissHeader(...) method of builtins.PyCapsule instance\n",
      "        GetTwissHeader(arg0: str) -> Dict[str, float]\n",
      "        \n",
      "        Get the twiss header as a dictionary.\n",
      "    \n",
      "    GetTwissTable(...) method of builtins.PyCapsule instance\n",
      "        GetTwissTable(arg0: str) -> Dict[str, List[float]]\n",
      "        \n",
      "        Get the twiss data table.\n",
      "    \n",
      "    Nagaitsev(...) method of builtins.PyCapsule instance\n",
      "        Nagaitsev(arg0: float, arg1: float, arg2: float, arg3: float, arg4: float, arg5: Dict[str, float], arg6: Dict[str, List[float]], arg7: float, arg8: numpy.ndarray[numpy.float64]) -> None\n",
      "        \n",
      "        Nagaitsev\n",
      "    \n",
      "    NagaitsevTailcut(...) method of builtins.PyCapsule instance\n",
      "        NagaitsevTailcut(arg0: float, arg1: float, arg2: float, arg3: float, arg4: float, arg5: Dict[str, float], arg6: Dict[str, List[float]], arg7: float, arg8: float, arg9: numpy.ndarray[numpy.float64]) -> None\n",
      "        \n",
      "        Nagaitsev Tailcut\n",
      "    \n",
      "    PiwinskiLattice(...) method of builtins.PyCapsule instance\n",
      "        PiwinskiLattice(arg0: float, arg1: float, arg2: float, arg3: float, arg4: float, arg5: Dict[str, float], arg6: Dict[str, List[float]], arg7: float, arg8: numpy.ndarray[numpy.float64]) -> None\n",
      "        \n",
      "        Piwinski Lattice\n",
      "    \n",
      "    PiwinskiLatticeModified(...) method of builtins.PyCapsule instance\n",
      "        PiwinskiLatticeModified(arg0: float, arg1: float, arg2: float, arg3: float, arg4: float, arg5: Dict[str, float], arg6: Dict[str, List[float]], arg7: float, arg8: numpy.ndarray[numpy.float64]) -> None\n",
      "        \n",
      "        Piwinski Lattice Modified\n",
      "    \n",
      "    PiwinskiSmooth(...) method of builtins.PyCapsule instance\n",
      "        PiwinskiSmooth(arg0: float, arg1: float, arg2: float, arg3: float, arg4: float, arg5: Dict[str, float], arg6: float, arg7: numpy.ndarray[numpy.float64]) -> None\n",
      "        \n",
      "        Piwinski smooth\n",
      "    \n",
      "    RadiationDampingApprox(...) method of builtins.PyCapsule instance\n",
      "        RadiationDampingApprox(arg0: float, arg1: float, arg2: float, arg3: float, arg4: float, arg5: float, arg6: numpy.ndarray[numpy.float64]) -> None\n",
      "        \n",
      "        Radiation Damping using Ring averages.\n",
      "    \n",
      "    RadiationDampingEquilibria(...) method of builtins.PyCapsule instance\n",
      "        RadiationDampingEquilibria(arg0: Dict[str, float], arg1: numpy.ndarray[numpy.float64], arg2: float, arg3: float, arg4: numpy.ndarray[numpy.float64]) -> None\n",
      "        \n",
      "        Get radiation damping equilibs.\n",
      "    \n",
      "    RadiationDampingLattice(...) method of builtins.PyCapsule instance\n",
      "        RadiationDampingLattice(arg0: Dict[str, List[float]], arg1: numpy.ndarray[numpy.float64]) -> None\n",
      "        \n",
      "        Radiation damping weighted per element.\n",
      "    \n",
      "    Zimmerman(...) method of builtins.PyCapsule instance\n",
      "        Zimmerman(arg0: float, arg1: float, arg2: float, arg3: float, arg4: float, arg5: Dict[str, float], arg6: Dict[str, List[float]], arg7: float, arg8: bool, arg9: numpy.ndarray[numpy.float64]) -> None\n",
      "        \n",
      "        Zimmerman\n",
      "    \n",
      "    ZimmermanSimpsonDecade(...) method of builtins.PyCapsule instance\n",
      "        ZimmermanSimpsonDecade(arg0: float, arg1: float, arg2: float, arg3: float, arg4: float, arg5: Dict[str, float], arg6: Dict[str, List[float]], arg7: float, arg8: bool, arg9: numpy.ndarray[numpy.float64]) -> None\n",
      "        \n",
      "        Zimmerman using Simpson Decade\n",
      "    \n",
      "    ZimmermanTailcut(...) method of builtins.PyCapsule instance\n",
      "        ZimmermanTailcut(arg0: float, arg1: float, arg2: float, arg3: float, arg4: float, arg5: Dict[str, float], arg6: Dict[str, List[float]], arg7: float, arg8: bool, arg9: numpy.ndarray[numpy.float64]) -> None\n",
      "        \n",
      "        Zimmerman Tailcut\n",
      "    \n",
      "    beta_relativistic_from_gamma(...) method of builtins.PyCapsule instance\n",
      "        beta_relativistic_from_gamma(arg0: float) -> float\n",
      "        \n",
      "        Beta relativistic.\n",
      "    \n",
      "    coulomblog(...) method of builtins.PyCapsule instance\n",
      "        coulomblog(arg0: float, arg1: float, arg2: float, arg3: Dict[str, float], arg4: float, arg5: float, arg6: float, arg7: bool, arg8: numpy.ndarray[numpy.float64]) -> None\n",
      "        \n",
      "        Calculate the Coulomb Log using ring average.\n",
      "    \n",
      "    coulomblogtail(...) method of builtins.PyCapsule instance\n",
      "        coulomblogtail(arg0: float, arg1: float, arg2: float, arg3: Dict[str, float], arg4: float, arg5: float, arg6: float, arg7: float, arg8: float, arg9: float, arg10: bool, arg11: numpy.ndarray[numpy.float64]) -> None\n",
      "        \n",
      "        Calculate the Coulomb Log with tailcut using ring average.\n",
      "    \n",
      "    dee_to_dpp(...) method of builtins.PyCapsule instance\n",
      "        dee_to_dpp(arg0: float, arg1: float) -> float\n",
      "        \n",
      "        DE/E to DP/P\n",
      "    \n",
      "    dpp_to_dee(...) method of builtins.PyCapsule instance\n",
      "        dpp_to_dee(arg0: float, arg1: float) -> float\n",
      "        \n",
      "        DP/P to DE/E\n",
      "    \n",
      "    eta(...) method of builtins.PyCapsule instance\n",
      "        eta(arg0: float, arg1: float) -> float\n",
      "        \n",
      "        Slip factor\n",
      "    \n",
      "    fmohl(...) method of builtins.PyCapsule instance\n",
      "        fmohl(arg0: float, arg1: float, arg2: float, arg3: int) -> float\n",
      "        \n",
      "        Fmohl function\n",
      "    \n",
      "    get_energy_loss_per_turn(...) method of builtins.PyCapsule instance\n",
      "        get_energy_loss_per_turn(arg0: Dict[str, float], arg1: float, arg2: float) -> float\n",
      "        \n",
      "        Get the energy loss per turn.\n",
      "    \n",
      "    get_synchronuous_phase(...) method of builtins.PyCapsule instance\n",
      "        get_synchronuous_phase(arg0: float, arg1: float, arg2: float, arg3: float, arg4: List[float], arg5: List[float], arg6: float) -> float\n",
      "    \n",
      "    get_synchronuous_phase_with_potential_well_distortion(...) method of builtins.PyCapsule instance\n",
      "        get_synchronuous_phase_with_potential_well_distortion(arg0: float, arg1: float, arg2: float, arg3: float, arg4: List[float], arg5: List[float], arg6: float, arg7: float, arg8: float, arg9: float, arg10: float) -> float\n",
      "    \n",
      "    get_synchrotron_tune(...) method of builtins.PyCapsule instance\n",
      "        get_synchrotron_tune(arg0: float, arg1: float, arg2: float, arg3: List[float], arg4: List[float], arg5: float, arg6: float, arg7: float) -> float\n",
      "    \n",
      "    get_synchrotron_tune_with_potential_well(...) method of builtins.PyCapsule instance\n",
      "        get_synchrotron_tune_with_potential_well(arg0: float, arg1: float, arg2: float, arg3: List[float], arg4: List[float], arg5: float, arg6: float, arg7: float, arg8: float, arg9: float, arg10: float) -> float\n",
      "    \n",
      "    integral_bjorken_mtingwa(...) method of builtins.PyCapsule instance\n",
      "        integral_bjorken_mtingwa(arg0: float, arg1: float, arg2: float, arg3: float, arg4: float, arg5: float, arg6: float, arg7: float, arg8: float, arg9: float, arg10: float, arg11: float, arg12: float, arg13: float, arg14: numpy.ndarray[numpy.float64]) -> None\n",
      "        \n",
      "        Bjorken-Mtingwa integral calculated using Simpson Decade\n",
      "    \n",
      "    integral_conte_martini(...) method of builtins.PyCapsule instance\n",
      "        integral_conte_martini(arg0: float, arg1: float, arg2: float, arg3: float, arg4: float, arg5: float, arg6: float, arg7: float, arg8: float, arg9: float, arg10: float, arg11: float, arg12: float, arg13: float, arg14: numpy.ndarray[numpy.float64]) -> None\n",
      "        \n",
      "        Conte-Martini integral calculated using Simpson Decade\n",
      "    \n",
      "    integral_zimmerman(...) method of builtins.PyCapsule instance\n",
      "        integral_zimmerman(arg0: float, arg1: float, arg2: float, arg3: float, arg4: float, arg5: float, arg6: float, arg7: float, arg8: float, arg9: float, arg10: float, arg11: float, arg12: float, arg13: float, arg14: numpy.ndarray[numpy.float64]) -> None\n",
      "        \n",
      "        Zimmerman integral calculated using Simpson Decade\n",
      "    \n",
      "    integrand(...) method of builtins.PyCapsule instance\n",
      "        integrand(arg0: float, arg1: float, arg2: float, arg3: float, arg4: float, arg5: float) -> float\n",
      "        \n",
      "        IBS integral integrand\n",
      "    \n",
      "    integrator_simpson(...) method of builtins.PyCapsule instance\n",
      "        integrator_simpson(arg0: Callable[[float, float, float, float, float, float], float], arg1: float, arg2: float, arg3: float, arg4: float, arg5: float, arg6: float, arg7: float, arg8: int) -> float\n",
      "        \n",
      "        standard simpson integration on variable integrand (function)\n",
      "    \n",
      "    integrator_simpson_bjorken_mtingwa(...) method of builtins.PyCapsule instance\n",
      "        integrator_simpson_bjorken_mtingwa(arg0: Callable[[float, float, float, float, float, float], float], arg1: float, arg2: float, arg3: float, arg4: float, arg5: float, arg6: float, arg7: float, arg8: float, arg9: float, arg10: numpy.ndarray[numpy.float64]) -> None\n",
      "        \n",
      "        Standard Simpson integral on Bjorken-Mtingwa integrand.\n",
      "    \n",
      "    integrator_simpson_decade(...) method of builtins.PyCapsule instance\n",
      "        integrator_simpson_decade(arg0: float, arg1: float, arg2: float, arg3: float, arg4: float, arg5: float, arg6: float, arg7: float, arg8: float, arg9: float, arg10: float, arg11: float, arg12: float, arg13: float, arg14: numpy.ndarray[numpy.float64]) -> None\n",
      "        \n",
      "        Simpson integrator with decade splitting.\n",
      "    \n",
      "    integrator_twsint(...) method of builtins.PyCapsule instance\n",
      "        integrator_twsint(arg0: float, arg1: float, arg2: float, arg3: float, arg4: float, arg5: float, arg6: float, arg7: float, arg8: float, arg9: float, arg10: float, arg11: float, arg12: float, arg13: float, arg14: numpy.ndarray[numpy.float64]) -> None\n",
      "        \n",
      "        MADX Simpson Decade with scaling integrator\n",
      "    \n",
      "    particle_radius(...) method of builtins.PyCapsule instance\n",
      "        particle_radius(arg0: float, arg1: float) -> float\n",
      "        \n",
      "        Particle radius from charge and atomic mass.\n",
      "    \n",
      "    printTwissColumn(...) method of builtins.PyCapsule instance\n",
      "        printTwissColumn(arg0: str, arg1: Dict[str, List[float]]) -> None\n",
      "        \n",
      "        Print Twiss column\n",
      "    \n",
      "    rds(...) method of builtins.PyCapsule instance\n",
      "        rds(arg0: float, arg1: float, arg2: float) -> float\n",
      "        \n",
      "        Nagaitsev paper rds function\n",
      "    \n",
      "    rf_voltage_in_ev(...) method of builtins.PyCapsule instance\n",
      "        rf_voltage_in_ev(arg0: float, arg1: float, arg2: List[float], arg3: List[float]) -> float\n",
      "    \n",
      "    rf_voltage_in_ev_prime(...) method of builtins.PyCapsule instance\n",
      "        rf_voltage_in_ev_prime(arg0: float, arg1: float, arg2: List[float], arg3: List[float]) -> float\n",
      "    \n",
      "    rf_voltage_in_ev_with_rad_losses(...) method of builtins.PyCapsule instance\n",
      "        rf_voltage_in_ev_with_rad_losses(arg0: float, arg1: float, arg2: float, arg3: List[float], arg4: List[float]) -> float\n",
      "    \n",
      "    rf_voltage_with_potential_well_distortion(...) method of builtins.PyCapsule instance\n",
      "        rf_voltage_with_potential_well_distortion(arg0: float, arg1: float, arg2: float, arg3: List[float], arg4: List[float], arg5: float, arg6: float, arg7: float, arg8: float) -> float\n",
      "    \n",
      "    rf_voltage_with_potential_well_distortion_prime(...) method of builtins.PyCapsule instance\n",
      "        rf_voltage_with_potential_well_distortion_prime(arg0: float, arg1: float, arg2: float, arg3: List[float], arg4: List[float], arg5: float, arg6: float, arg7: float, arg8: float) -> float\n",
      "    \n",
      "    runODE(...) method of builtins.PyCapsule instance\n",
      "        runODE(*args, **kwargs)\n",
      "        Overloaded function.\n",
      "        \n",
      "        1. runODE(arg0: Dict[str, float], arg1: Dict[str, List[float]], arg2: List[float], arg3: List[float], arg4: List[float], arg5: List[float], arg6: List[float], arg7: List[float], arg8: List[float], arg9: int, arg10: float, arg11: int, arg12: float, arg13: str) -> Dict[str, List[float]]\n",
      "        \n",
      "        2. runODE(arg0: Dict[str, float], arg1: Dict[str, List[float]], arg2: List[float], arg3: List[float], arg4: List[float], arg5: List[float], arg6: List[float], arg7: List[float], arg8: List[float], arg9: int, arg10: float, arg11: int, arg12: float, arg13: int, arg14: str) -> Dict[str, List[float]]\n",
      "    \n",
      "    sige_form_sigs_using_rf(...) method of builtins.PyCapsule instance\n",
      "        sige_form_sigs_using_rf(arg0: float, arg1: float, arg2: float, arg3: List[float], arg4: List[float], arg5: float, arg6: float, arg7: float, arg8: float, arg9: float, arg10: bool) -> float\n",
      "    \n",
      "    sige_from_sigs(...) method of builtins.PyCapsule instance\n",
      "        sige_from_sigs(arg0: float, arg1: float, arg2: float, arg3: float, arg4: float) -> float\n",
      "        \n",
      "        Energy spread from bunch length.\n",
      "    \n",
      "    sigs_from_sige(...) method of builtins.PyCapsule instance\n",
      "        sigs_from_sige(arg0: float, arg1: float, arg2: float, arg3: float) -> float\n",
      "        \n",
      "        Bunch length from energy spread.\n",
      "    \n",
      "    twclog(...) method of builtins.PyCapsule instance\n",
      "        twclog(arg0: float, arg1: float, arg2: float, arg3: float, arg4: float, arg5: float, arg6: float, arg7: float, arg8: float, arg9: float, arg10: float, arg11: float, arg12: float, arg13: float, arg14: numpy.ndarray[numpy.float64]) -> None\n",
      "        \n",
      "        Calculate the Coulomb Log.\n",
      "    \n",
      "    twclogtail(...) method of builtins.PyCapsule instance\n",
      "        twclogtail(arg0: float, arg1: float, arg2: float, arg3: float, arg4: float, arg5: float, arg6: float, arg7: float, arg8: float, arg9: float, arg10: float, arg11: float, arg12: float, arg13: float, arg14: float, arg15: float, arg16: float, arg17: float, arg18: float, arg19: float, arg20: float, arg21: float, arg22: float, arg23: float, arg24: numpy.ndarray[numpy.float64]) -> None\n",
      "        \n",
      "        Calculate the Coulomb Log with Tailcut.\n",
      "    \n",
      "    updateTwiss(...) method of builtins.PyCapsule instance\n",
      "        updateTwiss(arg0: Dict[str, List[float]]) -> Dict[str, List[float]]\n",
      "        \n",
      "        Extend Twiss Table with rad int, CS gamma, curly H and rho.\n",
      "\n",
      "DATA\n",
      "    atomic_mass_unit = 0.93149410242\n",
      "    clight = 299792458.0\n",
      "    electric_charge = 1.602176634e-19\n",
      "    electron_mass = 0.00051099895\n",
      "    electron_radius = 2.8179403262e-15\n",
      "    euler = 0.577215664901533\n",
      "    hbarGeV = 6.582119569e-25\n",
      "    mu_mass = 0.1056583755\n",
      "    neutron_mass = 0.93956542052\n",
      "    pi = 3.141592653589793\n",
      "    proton_mass = 0.93827208816\n",
      "    proton_radius = 1.5346982671888944e-18\n",
      "\n",
      "FILE\n",
      "    /home/mti/anaconda3/envs/ibslibenv/lib/python3.8/site-packages/IBSLib.cpython-38-x86_64-linux-gnu.so\n",
      "\n",
      "\n"
     ]
    }
   ],
   "source": [
    "help(ibslib)"
   ]
  },
  {
   "cell_type": "code",
   "execution_count": 4,
   "metadata": {},
   "outputs": [
    {
     "name": "stdout",
     "output_type": "stream",
     "text": [
      "Help on built-in function Nagaitsev in module IBSLib:\n",
      "\n",
      "Nagaitsev(...) method of builtins.PyCapsule instance\n",
      "    Nagaitsev(arg0: float, arg1: float, arg2: float, arg3: float, arg4: float, arg5: Dict[str, float], arg6: Dict[str, List[float]], arg7: float, arg8: numpy.ndarray[numpy.float64]) -> None\n",
      "    \n",
      "    Nagaitsev\n",
      "\n"
     ]
    }
   ],
   "source": [
    "help(ibslib.Nagaitsev)"
   ]
  },
  {
   "cell_type": "markdown",
   "metadata": {
    "cell_style": "center",
    "slideshow": {
     "slide_type": "slide"
    }
   },
   "source": [
    "## Physical Constants\n"
   ]
  },
  {
   "cell_type": "code",
   "execution_count": 5,
   "metadata": {
    "cell_style": "center",
    "slideshow": {
     "slide_type": "fragment"
    }
   },
   "outputs": [
    {
     "name": "stdout",
     "output_type": "stream",
     "text": [
      "Speed of light in m/s               : 2.99792458e+08\n",
      "Reduced Planck constant in GeV      : 6.58211957e-25\n",
      "Electron Mass in GeV                : 5.10998950e-04\n",
      "Proton Mass in GeV                  : 9.38272088e-01\n",
      "Neutron Mass in GeV                 : 9.39565421e-01\n",
      "Muon Mass in GeV                    : 1.05658375e-01\n",
      "Atomic Mass Unit in GeV             : 9.31494102e-01\n",
      "Pi                                  : 3.14159265e+00\n",
      "Electric Charge in Coulomb          : 1.60217663e-19\n",
      "Euler Constant                      : 5.77215665e-01\n",
      "Classical Electron Radius in m      : 2.81794033e-15\n",
      "Classical Proton Radius in m        : 1.53469827e-18\n"
     ]
    }
   ],
   "source": [
    "print(\"{:35} : {:12.8e}\".format(\"Speed of light in m/s\", ibslib.clight))\n",
    "print(\"{:35} : {:12.8e}\".format(\"Reduced Planck constant in GeV \", ibslib.hbarGeV))\n",
    "print(\"{:35} : {:12.8e}\".format(\"Electron Mass in GeV\", ibslib.electron_mass))\n",
    "print(\"{:35} : {:12.8e}\".format(\"Proton Mass in GeV\", ibslib.proton_mass))\n",
    "print(\"{:35} : {:12.8e}\".format(\"Neutron Mass in GeV\", ibslib.neutron_mass))\n",
    "print(\"{:35} : {:12.8e}\".format(\"Muon Mass in GeV\", ibslib.mu_mass))\n",
    "print(\"{:35} : {:12.8e}\".format(\"Atomic Mass Unit in GeV\", ibslib.atomic_mass_unit))\n",
    "print(\"{:35} : {:12.8e}\".format(\"Pi\", ibslib.pi))\n",
    "print(\"{:35} : {:12.8e}\".format(\"Electric Charge in Coulomb\", ibslib.electric_charge))\n",
    "print(\"{:35} : {:12.8e}\".format(\"Euler Constant\", ibslib.euler))\n",
    "print(\"{:35} : {:12.8e}\".format(\"Classical Electron Radius in m\", ibslib.electron_radius))\n",
    "print(\"{:35} : {:12.8e}\".format(\"Classical Proton Radius in m \", ibslib.proton_radius))\n"
   ]
  },
  {
   "cell_type": "markdown",
   "metadata": {
    "slideshow": {
     "slide_type": "slide"
    }
   },
   "source": [
    "## Twiss\n",
    "\n",
    "- Cpymad\n",
    "- from file\n",
    "    * read header\n",
    "    * read table\n",
    "    * update -> adds radiation integrals per element (I1,I2,I3,I4x,I4y,I5x,I5y)"
   ]
  },
  {
   "cell_type": "markdown",
   "metadata": {
    "slideshow": {
     "slide_type": "subslide"
    }
   },
   "source": [
    "### Cpymad"
   ]
  },
  {
   "cell_type": "code",
   "execution_count": 6,
   "metadata": {
    "slideshow": {
     "slide_type": "fragment"
    }
   },
   "outputs": [
    {
     "data": {
      "text/plain": [
       "{'sequence': 'RING', 'particle': 'ELECTRON', 'mass': 0.00051099895, 'charge': -1.0, 'energy': 1.7, 'pc': 1.699999923, 'gamma': 3326.817012, 'kbunch': 1.0, 'bcurrent': 2.001335116e-13, 'sige': 0.001, 'sigt': 1.0, 'npart': 1.0, 'ex': 1.0, 'ey': 1.0, 'et': 0.001, 'bv_flag': 1.0, 'length': 240.0, 'alfa': 0.0007316942746, 'orbit5': -0.0, 'gammatr': 36.9687845, 'q1': 17.84996563, 'q2': 6.743031469, 'dq1': 1.077745266, 'dq2': 1.371772348, 'dxmax': 0.4496533372, 'dymax': 0.0, 'xcomax': 0.0, 'ycomax': 0.0, 'betxmax': 17.43722837, 'betymax': 21.09492526, 'xcorms': 0.0, 'ycorms': 0.0, 'dxrms': 0.2272073799, 'dyrms': 0.0, 'deltap': 0.0, 'synch_1': 0.1756066259, 'synch_2': 1.442924619, 'synch_3': 0.3313655981, 'synch_4': -0.004653715528, 'synch_5': 0.001749753833}"
      ]
     },
     "execution_count": 6,
     "metadata": {},
     "output_type": "execute_result"
    }
   ],
   "source": [
    "from cpymad.madx import Madx\n",
    "\n",
    "lattice = \"BII_1996-01-01_design_v_1.seq\"\n",
    "tfsfile = \"b2_design.twiss\"\n",
    "\n",
    "mad = Madx()\n",
    "mad.option.echo = False\n",
    "mad.option.warn = False\n",
    "mad.command.beam(energy=1.7, particle='electron')\n",
    "mad.call(file=lattice)\n",
    "mad.use(sequence='ring')\n",
    "twiss = mad.twiss(file=tfsfile, chrom=True)\n",
    "twiss.summary"
   ]
  },
  {
   "cell_type": "markdown",
   "metadata": {
    "slideshow": {
     "slide_type": "subslide"
    }
   },
   "source": [
    "###  From File"
   ]
  },
  {
   "cell_type": "code",
   "execution_count": 7,
   "metadata": {
    "slideshow": {
     "slide_type": "fragment"
    }
   },
   "outputs": [
    {
     "data": {
      "text/plain": [
       "dict_keys(['ALFA', 'BCURRENT', 'BETXMAX', 'BETYMAX', 'BV_FLAG', 'CHARGE', 'DELTAP', 'DQ1', 'DQ2', 'DXMAX', 'DXRMS', 'DYMAX', 'DYRMS', 'ENERGY', 'ET', 'EX', 'EY', 'GAMMA', 'GAMMATR', 'KBUNCH', 'LENGTH', 'MASS', 'NPART', 'ORBIT5', 'PC', 'Q1', 'Q2', 'SIGE', 'SIGT', 'SYNCH_1', 'SYNCH_2', 'SYNCH_3', 'SYNCH_4', 'SYNCH_5', 'XCOMAX', 'XCORMS', 'YCOMAX', 'YCORMS'])"
      ]
     },
     "execution_count": 7,
     "metadata": {},
     "output_type": "execute_result"
    }
   ],
   "source": [
    "# read twiss summary / header as dictionary\n",
    "twissHeader = ibslib.GetTwissHeader(tfsfile)\n",
    "twissHeader.keys()"
   ]
  },
  {
   "cell_type": "code",
   "execution_count": 8,
   "metadata": {
    "slideshow": {
     "slide_type": "fragment"
    }
   },
   "outputs": [
    {
     "data": {
      "text/plain": [
       "dict_keys(['ALFX', 'ALFY', 'ANGLE', 'BETX', 'BETY', 'DPX', 'DPY', 'DX', 'DY', 'K1L', 'K1SL', 'L'])"
      ]
     },
     "execution_count": 8,
     "metadata": {},
     "output_type": "execute_result"
    }
   ],
   "source": [
    "# read twiss table as dictionary - only reads IBS relevant columns from Twiss (data reduction)\n",
    "twissTable = ibslib.GetTwissTable(tfsfile)\n",
    "twissTable.keys()"
   ]
  },
  {
   "cell_type": "code",
   "execution_count": 9,
   "metadata": {
    "slideshow": {
     "slide_type": "fragment"
    }
   },
   "outputs": [
    {
     "data": {
      "text/plain": [
       "dict_keys(['ALFX', 'ALFY', 'ANGLE', 'BETX', 'BETY', 'DPX', 'DPY', 'DX', 'DY', 'I1', 'I2', 'I3', 'I4x', 'I4y', 'I5x', 'I5y', 'K1L', 'K1SL', 'L', 'gammax', 'gammay', 'hx', 'hy', 'k', 'rho'])"
      ]
     },
     "execution_count": 9,
     "metadata": {},
     "output_type": "execute_result"
    }
   ],
   "source": [
    "# update Twiss with radiation integrals and related quantities needed later on (come back to this later)\n",
    "twissTable = ibslib.updateTwiss(twissTable)\n",
    "twissTable.keys()"
   ]
  },
  {
   "cell_type": "code",
   "execution_count": 10,
   "metadata": {
    "slideshow": {
     "slide_type": "fragment"
    }
   },
   "outputs": [
    {
     "name": "stdout",
     "output_type": "stream",
     "text": [
      "16.8602\n",
      "17.3272\n",
      "17.382\n",
      "17.4372\n",
      "12.1437\n",
      "9.41272\n",
      "6.93308\n",
      "4.92173\n",
      "2.80142\n",
      "0.988134\n",
      "0.803841\n",
      "2.4349\n",
      "3.85878\n",
      "7.29053\n",
      "9.52229\n",
      "14.3048\n",
      "16.6995\n",
      "16.6778\n",
      "16.6653\n",
      "16.654\n",
      "16.6394\n",
      "14.2024\n",
      "9.40131\n",
      "7.16668\n",
      "3.74428\n",
      "2.32885\n",
      "0.72913\n",
      "1.10602\n",
      "3.07841\n",
      "5.48473\n",
      "7.86307\n",
      "10.8148\n",
      "14.0817\n",
      "15.5822\n",
      "12.9317\n",
      "10.4275\n",
      "8.28888\n",
      "6.58412\n",
      "6.58412\n",
      "8.28888\n",
      "10.4275\n",
      "12.9317\n",
      "15.5822\n",
      "14.0817\n",
      "10.8148\n",
      "7.86307\n",
      "5.48473\n",
      "3.07841\n",
      "1.10602\n",
      "0.72913\n",
      "2.32885\n",
      "3.74428\n",
      "7.16668\n",
      "9.40131\n",
      "14.2024\n",
      "16.6394\n",
      "16.654\n",
      "16.6653\n",
      "16.6778\n",
      "16.6995\n",
      "14.3048\n",
      "9.52229\n",
      "7.29053\n",
      "3.85878\n",
      "2.4349\n",
      "0.803841\n",
      "0.988134\n",
      "2.80142\n",
      "4.92173\n",
      "6.93308\n",
      "9.41272\n",
      "12.1437\n",
      "17.4372\n",
      "17.382\n",
      "17.3272\n",
      "17.3272\n",
      "17.382\n",
      "17.4372\n",
      "12.1437\n",
      "9.41272\n",
      "6.93308\n",
      "4.92173\n",
      "2.80142\n",
      "0.988134\n",
      "0.803841\n",
      "2.4349\n",
      "3.85878\n",
      "7.29053\n",
      "9.52229\n",
      "14.3048\n",
      "16.6995\n",
      "16.6778\n",
      "16.6653\n",
      "16.654\n",
      "16.6394\n",
      "14.2024\n",
      "9.40131\n",
      "7.16668\n",
      "3.74428\n",
      "2.32885\n",
      "0.72913\n",
      "1.10602\n",
      "3.07841\n",
      "5.48473\n",
      "7.86307\n",
      "10.8148\n",
      "14.0817\n",
      "15.5822\n",
      "12.9317\n",
      "10.4275\n",
      "8.28888\n",
      "6.58412\n",
      "6.58412\n",
      "8.28888\n",
      "10.4275\n",
      "12.9317\n",
      "15.5822\n",
      "14.0817\n",
      "10.8148\n",
      "7.86307\n",
      "5.48473\n",
      "3.07841\n",
      "1.10602\n",
      "0.72913\n",
      "2.32885\n",
      "3.74428\n",
      "7.16668\n",
      "9.40131\n",
      "14.2024\n",
      "16.6394\n",
      "16.654\n",
      "16.6653\n",
      "16.6778\n",
      "16.6995\n",
      "14.3048\n",
      "9.52229\n",
      "7.29053\n",
      "3.85878\n",
      "2.4349\n",
      "0.803841\n",
      "0.988134\n",
      "2.80142\n",
      "4.92173\n",
      "6.93308\n",
      "9.41272\n",
      "12.1437\n",
      "17.4372\n",
      "17.382\n",
      "17.3272\n",
      "17.3272\n",
      "17.382\n",
      "17.4372\n",
      "12.1437\n",
      "9.41272\n",
      "6.93308\n",
      "4.92173\n",
      "2.80142\n",
      "0.988134\n",
      "0.803841\n",
      "2.4349\n",
      "3.85878\n",
      "7.29053\n",
      "9.52229\n",
      "14.3048\n",
      "16.6995\n",
      "16.6778\n",
      "16.6653\n",
      "16.654\n",
      "16.6394\n",
      "14.2024\n",
      "9.40131\n",
      "7.16668\n",
      "3.74428\n",
      "2.32885\n",
      "0.72913\n",
      "1.10602\n",
      "3.07841\n",
      "5.48473\n",
      "7.86307\n",
      "10.8148\n",
      "14.0817\n",
      "15.5822\n",
      "12.9317\n",
      "10.4275\n",
      "8.28888\n",
      "6.58412\n",
      "6.58412\n",
      "8.28888\n",
      "10.4275\n",
      "12.9317\n",
      "15.5822\n",
      "14.0817\n",
      "10.8148\n",
      "7.86307\n",
      "5.48473\n",
      "3.07841\n",
      "1.10602\n",
      "0.72913\n",
      "2.32885\n",
      "3.74428\n",
      "7.16668\n",
      "9.40131\n",
      "14.2024\n",
      "16.6394\n",
      "16.654\n",
      "16.6653\n",
      "16.6778\n",
      "16.6995\n",
      "14.3048\n",
      "9.52229\n",
      "7.29053\n",
      "3.85878\n",
      "2.4349\n",
      "0.803841\n",
      "0.988134\n",
      "2.80142\n",
      "4.92173\n",
      "6.93308\n",
      "9.41272\n",
      "12.1437\n",
      "17.4372\n",
      "17.382\n",
      "17.3272\n",
      "17.3272\n",
      "17.382\n",
      "17.4372\n",
      "12.1437\n",
      "9.41272\n",
      "6.93308\n",
      "4.92173\n",
      "2.80142\n",
      "0.988134\n",
      "0.803841\n",
      "2.4349\n",
      "3.85878\n",
      "7.29053\n",
      "9.52229\n",
      "14.3048\n",
      "16.6995\n",
      "16.6778\n",
      "16.6653\n",
      "16.654\n",
      "16.6394\n",
      "14.2024\n",
      "9.40131\n",
      "7.16668\n",
      "3.74428\n",
      "2.32885\n",
      "0.72913\n",
      "1.10602\n",
      "3.07841\n",
      "5.48473\n",
      "7.86307\n",
      "10.8148\n",
      "14.0817\n",
      "15.5822\n",
      "12.9317\n",
      "10.4275\n",
      "8.28888\n",
      "6.58412\n",
      "6.58412\n",
      "8.28888\n",
      "10.4275\n",
      "12.9317\n",
      "15.5822\n",
      "14.0817\n",
      "10.8148\n",
      "7.86307\n",
      "5.48473\n",
      "3.07841\n",
      "1.10602\n",
      "0.72913\n",
      "2.32885\n",
      "3.74428\n",
      "7.16668\n",
      "9.40131\n",
      "14.2024\n",
      "16.6394\n",
      "16.654\n",
      "16.6653\n",
      "16.6778\n",
      "16.6995\n",
      "14.3048\n",
      "9.52229\n",
      "7.29053\n",
      "3.85878\n",
      "2.4349\n",
      "0.803841\n",
      "0.988134\n",
      "2.80142\n",
      "4.92173\n",
      "6.93308\n",
      "9.41272\n",
      "12.1437\n",
      "17.4372\n",
      "17.382\n",
      "17.3272\n",
      "17.3272\n",
      "17.382\n",
      "17.4372\n",
      "12.1437\n",
      "9.41272\n",
      "6.93308\n",
      "4.92173\n",
      "2.80142\n",
      "0.988134\n",
      "0.803841\n",
      "2.4349\n",
      "3.85878\n",
      "7.29053\n",
      "9.52229\n",
      "14.3048\n",
      "16.6995\n",
      "16.6778\n",
      "16.6653\n",
      "16.654\n",
      "16.6394\n",
      "14.2024\n",
      "9.40131\n",
      "7.16668\n",
      "3.74428\n",
      "2.32885\n",
      "0.72913\n",
      "1.10602\n",
      "3.07841\n",
      "5.48473\n",
      "7.86307\n",
      "10.8148\n",
      "14.0817\n",
      "15.5822\n",
      "12.9317\n",
      "10.4275\n",
      "8.28888\n",
      "6.58412\n",
      "6.58412\n",
      "8.28888\n",
      "10.4275\n",
      "12.9317\n",
      "15.5822\n",
      "14.0817\n",
      "10.8148\n",
      "7.86307\n",
      "5.48473\n",
      "3.07841\n",
      "1.10602\n",
      "0.72913\n",
      "2.32885\n",
      "3.74428\n",
      "7.16668\n",
      "9.40131\n",
      "14.2024\n",
      "16.6394\n",
      "16.654\n",
      "16.6653\n",
      "16.6778\n",
      "16.6995\n",
      "14.3048\n",
      "9.52229\n",
      "7.29053\n",
      "3.85878\n",
      "2.4349\n",
      "0.803841\n",
      "0.988134\n",
      "2.80142\n",
      "4.92173\n",
      "6.93308\n",
      "9.41272\n",
      "12.1437\n",
      "17.4372\n",
      "17.382\n",
      "17.3272\n",
      "17.3272\n",
      "17.382\n",
      "17.4372\n",
      "12.1437\n",
      "9.41272\n",
      "6.93308\n",
      "4.92173\n",
      "2.80142\n",
      "0.988134\n",
      "0.803841\n",
      "2.4349\n",
      "3.85878\n",
      "7.29053\n",
      "9.52229\n",
      "14.3048\n",
      "16.6995\n",
      "16.6778\n",
      "16.6653\n",
      "16.654\n",
      "16.6394\n",
      "14.2024\n",
      "9.40131\n",
      "7.16668\n",
      "3.74428\n",
      "2.32885\n",
      "0.72913\n",
      "1.10602\n",
      "3.07841\n",
      "5.48473\n",
      "7.86307\n",
      "10.8148\n",
      "14.0817\n",
      "15.5822\n",
      "12.9317\n",
      "10.4275\n",
      "8.28888\n",
      "6.58412\n",
      "6.58412\n",
      "8.28888\n",
      "10.4275\n",
      "12.9317\n",
      "15.5822\n",
      "14.0817\n",
      "10.8148\n",
      "7.86307\n",
      "5.48473\n",
      "3.07841\n",
      "1.10602\n",
      "0.72913\n",
      "2.32885\n",
      "3.74428\n",
      "7.16668\n",
      "9.40131\n",
      "14.2024\n",
      "16.6394\n",
      "16.654\n",
      "16.6653\n",
      "16.6778\n",
      "16.6995\n",
      "14.3048\n",
      "9.52229\n",
      "7.29053\n",
      "3.85878\n",
      "2.4349\n",
      "0.803841\n",
      "0.988134\n",
      "2.80142\n",
      "4.92173\n",
      "6.93308\n",
      "9.41272\n",
      "12.1437\n",
      "17.4372\n",
      "17.382\n",
      "17.3272\n",
      "17.3272\n",
      "17.382\n",
      "17.4372\n",
      "12.1437\n",
      "9.41272\n",
      "6.93308\n",
      "4.92173\n",
      "2.80142\n",
      "0.988134\n",
      "0.803841\n",
      "2.4349\n",
      "3.85878\n",
      "7.29053\n",
      "9.52229\n",
      "14.3048\n",
      "16.6995\n",
      "16.6778\n",
      "16.6653\n",
      "16.654\n",
      "16.6394\n",
      "14.2024\n",
      "9.40131\n",
      "7.16668\n",
      "3.74428\n",
      "2.32885\n",
      "0.72913\n",
      "1.10602\n",
      "3.07841\n",
      "5.48473\n",
      "7.86307\n",
      "10.8148\n",
      "14.0817\n",
      "15.5822\n",
      "12.9317\n",
      "10.4275\n",
      "8.28888\n",
      "6.58412\n",
      "6.58412\n",
      "8.28888\n",
      "10.4275\n",
      "12.9317\n",
      "15.5822\n",
      "14.0817\n",
      "10.8148\n",
      "7.86307\n",
      "5.48473\n",
      "3.07841\n",
      "1.10602\n",
      "0.72913\n",
      "2.32885\n",
      "3.74428\n",
      "7.16668\n",
      "9.40131\n",
      "14.2024\n",
      "16.6394\n",
      "16.654\n",
      "16.6653\n",
      "16.6778\n",
      "16.6995\n",
      "14.3048\n",
      "9.52229\n",
      "7.29053\n",
      "3.85878\n",
      "2.4349\n",
      "0.803841\n",
      "0.988134\n",
      "2.80142\n",
      "4.92173\n",
      "6.93308\n",
      "9.41272\n",
      "12.1437\n",
      "17.4372\n",
      "17.382\n",
      "17.3272\n",
      "17.3272\n",
      "17.382\n",
      "17.4372\n",
      "12.1437\n",
      "9.41272\n",
      "6.93308\n",
      "4.92173\n",
      "2.80142\n",
      "0.988134\n",
      "0.803841\n",
      "2.4349\n",
      "3.85878\n",
      "7.29053\n",
      "9.52229\n",
      "14.3048\n",
      "16.6995\n",
      "16.6778\n",
      "16.6653\n",
      "16.654\n",
      "16.6394\n",
      "14.2024\n",
      "9.40131\n",
      "7.16668\n",
      "3.74428\n",
      "2.32885\n",
      "0.72913\n",
      "1.10602\n",
      "3.07841\n",
      "5.48473\n",
      "7.86307\n",
      "10.8148\n",
      "14.0817\n",
      "15.5822\n",
      "12.9317\n",
      "10.4275\n",
      "8.28888\n",
      "6.58412\n",
      "6.58412\n",
      "8.28888\n",
      "10.4275\n",
      "12.9317\n",
      "15.5822\n",
      "14.0817\n",
      "10.8148\n",
      "7.86307\n",
      "5.48473\n",
      "3.07841\n",
      "1.10602\n",
      "0.72913\n",
      "2.32885\n",
      "3.74428\n",
      "7.16668\n",
      "9.40131\n",
      "14.2024\n",
      "16.6394\n",
      "16.654\n",
      "16.6653\n",
      "16.6778\n",
      "16.6995\n",
      "14.3048\n",
      "9.52229\n",
      "7.29053\n",
      "3.85878\n",
      "2.4349\n",
      "0.803841\n",
      "0.988134\n",
      "2.80142\n",
      "4.92173\n",
      "6.93308\n",
      "9.41272\n",
      "12.1437\n",
      "17.4372\n",
      "17.382\n",
      "17.3272\n",
      "16.8602\n",
      "16.8602\n"
     ]
    }
   ],
   "source": [
    "# print values of twiss column\n",
    "ibslib.printTwissColumn(\"BETX\",twissTable)"
   ]
  },
  {
   "cell_type": "markdown",
   "metadata": {
    "slideshow": {
     "slide_type": "slide"
    }
   },
   "source": [
    "## Radiation Damping\n",
    "- RadiationDampingApprox\n",
    "- RadiationDampingLattice\n",
    "- RadiationDampingEquilibria"
   ]
  },
  {
   "cell_type": "markdown",
   "metadata": {
    "slideshow": {
     "slide_type": "subslide"
    }
   },
   "source": [
    "###  Radiation Damping Approx\n",
    "\n",
    "Uses ring averages (Tunes -> beta average, average bending radius, etc...)"
   ]
  },
  {
   "cell_type": "code",
   "execution_count": 11,
   "metadata": {
    "slideshow": {
     "slide_type": "fragment"
    }
   },
   "outputs": [
    {
     "data": {
      "text/plain": [
       "array([1.540409  , 1.44292462, 0.3313656 , 0.        , 0.        ,\n",
       "       0.07523688, 0.        ])"
      ]
     },
     "execution_count": 11,
     "metadata": {},
     "output_type": "execute_result"
    }
   ],
   "source": [
    "df     = pd.DataFrame.from_dict(twissTable,orient='columns')\n",
    "rhoAvg = df.loc[df.rho != 0.0,'rho'].mean()\n",
    "\n",
    "gamma    = twissHeader['GAMMA']\n",
    "gamma_tr = twissHeader['GAMMATR']\n",
    "circ     = twissHeader['LENGTH']\n",
    "\n",
    "bxAvg = circ / (2.0 * ibslib.pi * twissHeader[\"Q1\"]); \n",
    "byAvg = circ / (2.0 * ibslib.pi * twissHeader[\"Q2\"]);\n",
    "\n",
    "radint = np.zeros(7)\n",
    "ibslib.RadiationDampingApprox(circ, gamma, gamma_tr, rhoAvg, bxAvg, byAvg, radint);\n",
    "radint"
   ]
  },
  {
   "cell_type": "markdown",
   "metadata": {
    "slideshow": {
     "slide_type": "subslide"
    }
   },
   "source": [
    "### Radiation Damping Lattice\n",
    "\n",
    "Uses Twiss Table"
   ]
  },
  {
   "cell_type": "code",
   "execution_count": 12,
   "metadata": {
    "slideshow": {
     "slide_type": "fragment"
    }
   },
   "outputs": [
    {
     "data": {
      "text/plain": [
       "array([ 0.26299979,  1.44292462,  0.3313656 , -0.00465372,  0.        ,\n",
       "        0.00201665,  0.        ])"
      ]
     },
     "execution_count": 12,
     "metadata": {},
     "output_type": "execute_result"
    }
   ],
   "source": [
    "ibslib.RadiationDampingLattice(twissTable, radint)\n",
    "radint"
   ]
  },
  {
   "cell_type": "markdown",
   "metadata": {
    "slideshow": {
     "slide_type": "subslide"
    }
   },
   "source": [
    "### Radiation damping Equilibria\n",
    "\n",
    "Values are used in the ODE simulations!!"
   ]
  },
  {
   "cell_type": "code",
   "execution_count": 13,
   "metadata": {
    "slideshow": {
     "slide_type": "fragment"
    }
   },
   "outputs": [
    {
     "name": "stdout",
     "output_type": "stream",
     "text": [
      "Energy Loss per Turn : 1.702619e+05 (eV)\n",
      "\n",
      "Taux       : 7.967527e-03 (s)\n",
      "Tauy       : 7.993224e-03 (s)\n",
      "Taus       : 3.990177e-03 (s)\n",
      "exinf      : 5.908327e-09 ()\n",
      "eyinf      : 9.415563e-14 ()\n",
      "sigeoe2    : 4.877655e-07 ()\n",
      "sigtinf    : 3.054559e-03 ()\n",
      "jx         : 1.003225e+00 ()\n",
      "jy         : 1.000000e+00 ()\n"
     ]
    }
   ],
   "source": [
    "gamma   = twissHeader.get('GAMMA')\n",
    "pc      = twissHeader.get('PC')\n",
    "gammatr = twissHeader.get('GAMMATR')\n",
    "mass    = twissHeader.get('MASS')\n",
    "charge  = twissHeader.get('CHARGE')\n",
    "q1      = twissHeader.get('Q1')\n",
    "l       = twissHeader.get('LENGTH')\n",
    "\n",
    "aatom   = ibslib.electron_mass / ibslib.proton_mass\n",
    "betar   = ibslib.beta_relativistic_from_gamma(gamma) # see numeric functions\n",
    "r0      = ibslib.particle_radius(1, aatom) # see numeric functions\n",
    "trev    = l / (betar * ibslib.clight)\n",
    "frev    = 1.0 / trev\n",
    "omega   = 2.0 * ibslib.pi * frev\n",
    "eta     = ibslib.eta(gamma, gammatr)\n",
    "epsilon = 1.0e-6 # accuracy for synchronuous phase search\n",
    "\n",
    "radint = np.zeros(7)\n",
    "ibslib.RadiationDampingLattice(twissTable, radint)\n",
    "\n",
    "target_energy_gain_ev    = 0.0\n",
    "intial_phis_search_value = 173\n",
    "harmon                   = [400.0]\n",
    "voltages                 = [-4. * 375000.]\n",
    "\n",
    "# methods below are described/ demonstrated in the numeric functions part\n",
    "U0     = ibslib.get_energy_loss_per_turn(twissHeader, radint[1], aatom) \n",
    "phis   = ibslib.get_synchronuous_phase(target_energy_gain_ev, intial_phis_search_value, U0, charge, harmon,voltages,epsilon)\n",
    "qs     = ibslib.get_synchrotron_tune(omega, U0, charge, harmon, voltages, phis, eta, pc)\n",
    "omegas = qs * omega\n",
    "\n",
    "equi = np.zeros(9)\n",
    "ibslib.RadiationDampingEquilibria(twissHeader, radint, aatom, qs, equi)\n",
    "print(\"{:10} : {:10.6e} ({})\\n\".format(\"Energy Loss per Turn\", U0, \"eV\"));\n",
    "print(\"{:10} : {:10.6e} ({})\".format(\"Taux\", equi[0], \"s\"));\n",
    "print(\"{:10} : {:10.6e} ({})\".format(\"Tauy\", equi[1], \"s\"));\n",
    "print(\"{:10} : {:10.6e} ({})\".format(\"Taus\", equi[2], \"s\"));\n",
    "print(\"{:10} : {:10.6e} ({})\".format(\"exinf\", equi[3], \"\"));\n",
    "print(\"{:10} : {:10.6e} ({})\".format(\"eyinf\", equi[4], \"\"));\n",
    "print(\"{:10} : {:10.6e} ({})\".format(\"sigeoe2\", equi[5], \"\"));\n",
    "print(\"{:10} : {:10.6e} ({})\".format(\"sigtinf\", equi[6], \"\"));\n",
    "print(\"{:10} : {:10.6e} ({})\".format(\"jx\", equi[7], \"\"));\n",
    "print(\"{:10} : {:10.6e} ({})\".format(\"jy\", equi[8], \"\"))"
   ]
  },
  {
   "cell_type": "markdown",
   "metadata": {
    "slideshow": {
     "slide_type": "slide"
    }
   },
   "source": [
    "## Numeric Functions\n",
    "\n",
    "- Standard util functions\n",
    "- Longitudinal / RF\n",
    "- IBS specific numeric functions"
   ]
  },
  {
   "cell_type": "markdown",
   "metadata": {
    "slideshow": {
     "slide_type": "subslide"
    }
   },
   "source": [
    "### Standard functions"
   ]
  },
  {
   "cell_type": "code",
   "execution_count": 14,
   "metadata": {
    "slideshow": {
     "slide_type": "fragment"
    }
   },
   "outputs": [
    {
     "data": {
      "text/plain": [
       "(0.999999954823541,\n",
       " 0.0007316942747206528,\n",
       " 2.8179403262e-15,\n",
       " 0.0006984020902062896,\n",
       " 0.0006984021532869811,\n",
       " 0.0006984020902063293)"
      ]
     },
     "execution_count": 14,
     "metadata": {},
     "output_type": "execute_result"
    }
   ],
   "source": [
    "betar   = ibslib.beta_relativistic_from_gamma(gamma)\n",
    "eta     = ibslib.eta(gamma, gammatr)\n",
    "r0      = ibslib.particle_radius(1, aatom)\n",
    "\n",
    "sige    = np.sqrt(equi[5])\n",
    "dpop    = ibslib.dee_to_dpp(sige, betar)\n",
    "deoe    = ibslib.dpp_to_dee(dpop, betar)\n",
    "betar, eta, r0, sige, dpop, deoe"
   ]
  },
  {
   "cell_type": "markdown",
   "metadata": {
    "slideshow": {
     "slide_type": "subslide"
    }
   },
   "source": [
    "### Longitudinal / RF\n",
    "- sigs_from_sige\n",
    "- sige_from_sigs\n",
    "- rf_voltage_in_eV - energy gain in eV -> to be able to find $\\phi_s$\n",
    "- rf_voltage_in_ev_prime - derivative of rf_voltage_in_eV \n",
    "- rf_voltage_in_ev_with_rad_losses\n",
    "- get_synchronuous_phase\n",
    "- rf_voltage_with_potential_well_distortion\n",
    "- rf_voltage_with_potential_well_distortion_prime\n",
    "- get_synchronuous_phase_with_potential_well_distortion\n",
    "- get_synchrotron_tune\n",
    "- get_synchrotron_tune_with_potential_well\n",
    "- sige_form_sigs_using_rf"
   ]
  },
  {
   "cell_type": "code",
   "execution_count": 15,
   "metadata": {
    "slideshow": {
     "slide_type": "fragment"
    }
   },
   "outputs": [
    {
     "data": {
      "text/plain": [
       "(0.003054558934794126, 0.0006984020902062896)"
      ]
     },
     "execution_count": 15,
     "metadata": {},
     "output_type": "execute_result"
    }
   ],
   "source": [
    "# sigma_s from sigma_e\n",
    "sigs = ibslib.sigs_from_sige(sige, gamma, gammatr, omegas)\n",
    "sigs, sige"
   ]
  },
  {
   "cell_type": "code",
   "execution_count": 16,
   "metadata": {
    "slideshow": {
     "slide_type": "fragment"
    }
   },
   "outputs": [
    {
     "data": {
      "text/plain": [
       "(0.003054558934794126, 0.0006984020902062895)"
      ]
     },
     "execution_count": 16,
     "metadata": {},
     "output_type": "execute_result"
    }
   ],
   "source": [
    "# sigma_e from sigma_s\n",
    "sigen = ibslib.sige_from_sigs(omega, sigs, qs, gamma, gammatr)\n",
    "sigs,sigen"
   ]
  },
  {
   "cell_type": "code",
   "execution_count": 17,
   "metadata": {},
   "outputs": [
    {
     "data": {
      "text/plain": [
       "(182804.01510772132, -1488819.227461983)"
      ]
     },
     "execution_count": 17,
     "metadata": {},
     "output_type": "execute_result"
    }
   ],
   "source": [
    "phi = 173\n",
    "ibslib.rf_voltage_in_ev(phi, charge, harmon,voltages), ibslib.rf_voltage_in_ev_prime(phi, charge, harmon,voltages)"
   ]
  },
  {
   "cell_type": "code",
   "execution_count": 18,
   "metadata": {},
   "outputs": [
    {
     "data": {
      "text/plain": [
       "12542.106380552286"
      ]
     },
     "execution_count": 18,
     "metadata": {},
     "output_type": "execute_result"
    }
   ],
   "source": [
    "# offset to be on synchronuous phase\n",
    "ibslib.rf_voltage_in_ev_with_rad_losses(phi, charge, U0, harmon, voltages)"
   ]
  },
  {
   "cell_type": "code",
   "execution_count": 19,
   "metadata": {},
   "outputs": [
    {
     "data": {
      "text/plain": [
       "(173, 173.48242725610714, 9.92469722405076e-07)"
      ]
     },
     "execution_count": 19,
     "metadata": {},
     "output_type": "execute_result"
    }
   ],
   "source": [
    "# synchronuous phase\n",
    "phis   = ibslib.get_synchronuous_phase(target_energy_gain_ev, intial_phis_search_value, U0, charge, harmon,voltages,epsilon)\n",
    "intial_phis_search_value, phis, ibslib.rf_voltage_in_ev_with_rad_losses(phis, charge, U0, harmon, voltages)"
   ]
  },
  {
   "cell_type": "code",
   "execution_count": 20,
   "metadata": {},
   "outputs": [
    {
     "data": {
      "text/plain": [
       "0.006390253850181927"
      ]
     },
     "execution_count": 20,
     "metadata": {},
     "output_type": "execute_result"
    }
   ],
   "source": [
    "# synchrotron tune \n",
    "ibslib.get_synchrotron_tune(omega, U0, charge, harmon, voltages, phis, eta, pc)"
   ]
  },
  {
   "cell_type": "code",
   "execution_count": 21,
   "metadata": {},
   "outputs": [
    {
     "data": {
      "text/plain": [
       "(0.0006984021533089606, 0.0006984020902062896)"
      ]
     },
     "execution_count": 21,
     "metadata": {},
     "output_type": "execute_result"
    }
   ],
   "source": [
    "ibslib.sige_form_sigs_using_rf(sigs, U0, charge, harmon, voltages, gamma,gammatr, pc, circ, phis, True), sige"
   ]
  },
  {
   "cell_type": "markdown",
   "metadata": {},
   "source": [
    "### IBS specific"
   ]
  },
  {
   "cell_type": "code",
   "execution_count": 22,
   "metadata": {},
   "outputs": [
    {
     "data": {
      "text/plain": [
       "(-5.404172967883224, 0.29046028102188937)"
      ]
     },
     "execution_count": 22,
     "metadata": {},
     "output_type": "execute_result"
    }
   ],
   "source": [
    "# numeric functions used in IBS growth rate calculations\n",
    "ibslib.fmohl(1.,2.,3.,1000), ibslib.rds(1.0,2.0,3.0)"
   ]
  },
  {
   "cell_type": "markdown",
   "metadata": {},
   "source": [
    "## Coulomb Log\n",
    "- twclog\n",
    "- twclogtail\n",
    "- coulomblog\n",
    "- coulomblogtail\n",
    "\n",
    "The first two methods are used in the simulation and are designed to be applied on an element by element basis. \n",
    "The second two use ring averages and can be used to get an idea of the values."
   ]
  },
  {
   "cell_type": "code",
   "execution_count": 23,
   "metadata": {
    "scrolled": false
   },
   "outputs": [
    {
     "name": "stdout",
     "output_type": "stream",
     "text": [
      "Coulomb Log                    : 1.742574e+01\n",
      "Coulomb IBS pre-factor         : 1.135416e+02\n",
      "\n",
      "Coulomb Log Tailcut            : 9.002388e+00\n",
      "Coulomb IBS pre-factor Tailcut : 5.865725e+01\n",
      "\n",
      "Element weighted\n",
      "================\n",
      "Coulomb Log                    : 1.654592e+01\n",
      "Coulomb IBS pre-factor         : 1.078089e+02\n",
      "\n",
      "Coulomb Log Tailcut            : 1.582737e+01\n",
      "Coulomb IBS pre-factor Tailcut : 1.031271e+02\n"
     ]
    }
   ],
   "source": [
    "pnumber = 1.0e10\n",
    "restE   = twissHeader['ENERGY']\n",
    "clog    = np.zeros(2)\n",
    "clogt   = np.zeros(2)\n",
    "\n",
    "# using ring averages\n",
    "ibslib.coulomblog(pnumber, equi[3], equi[4], twissHeader, sige, sigs, r0, True, clog)\n",
    "ibslib.coulomblogtail(pnumber, equi[3], equi[4], twissHeader, sige, sigs, equi[0], equi[1], equi[2], r0, True, clogt)\n",
    "\n",
    "print(\"{:30} : {:12.6e}\".format(\"Coulomb Log\", clog[0]))\n",
    "print(\"{:30} : {:12.6e}\".format(\"Coulomb IBS pre-factor\", clog[1]))\n",
    "print()\n",
    "print(\"{:30} : {:12.6e}\".format(\"Coulomb Log Tailcut\", clogt[0]))\n",
    "print(\"{:30} : {:12.6e}\".format(\"Coulomb IBS pre-factor Tailcut\", clogt[1]))\n",
    "print()\n",
    "\n",
    "\n",
    "print(\"Element weighted\")\n",
    "print(\"================\")\n",
    "# element by element weighted\n",
    "avgclog  = 0.0;\n",
    "avgclogc = 0.0;\n",
    "\n",
    "# without tailcut\n",
    "for i in range(len(twissTable[\"L\"])):\n",
    "    ibslib.twclog(pnumber, twissTable[\"BETX\"][i], twissTable[\"BETY\"][i],\n",
    "           twissTable[\"DX\"][i], twissTable[\"DY\"][i], equi[3], equi[4], r0,\n",
    "           gamma, charge, restE, mass, sige, sigs, clog);\n",
    "    avgclog  += twissTable[\"L\"][i] * clog[0];\n",
    "    avgclogc += twissTable[\"L\"][i] * clog[1];\n",
    "    \n",
    "avgclog  /= twissHeader[\"LENGTH\"];\n",
    "avgclogc /= twissHeader[\"LENGTH\"];\n",
    "\n",
    "print(\"{:30} : {:12.6e}\".format(\"Coulomb Log\", avgclog))\n",
    "print(\"{:30} : {:12.6e}\".format(\"Coulomb IBS pre-factor\", avgclogc))\n",
    "print()\n",
    "\n",
    "# with tailcut\n",
    "for i in range(len(twissTable[\"L\"])):\n",
    "    ibslib.twclogtail(pnumber, twissTable[\"L\"][i], twissTable[\"BETX\"][i],\n",
    "               twissTable[\"BETY\"][i], twissTable[\"DX\"][i],\n",
    "               twissTable[\"DPX\"][i], twissTable[\"DY\"][i],\n",
    "               twissTable[\"DPY\"][i], twissTable[\"ALFX\"][i],\n",
    "               twissTable[\"ALFY\"][i], twissTable[\"ANGLE\"][i],\n",
    "               twissTable[\"K1L\"][i], twissTable[\"K1SL\"][i], equi[3],\n",
    "               equi[4], r0, aatom, gamma, restE, circ, mass, charge, sige, sigs,\n",
    "               clogt);\n",
    "    avgclog  += twissTable[\"L\"][i] * clogt[0];\n",
    "    avgclogc += twissTable[\"L\"][i] * clogt[1];\n",
    "    \n",
    "avgclog  /= twissHeader[\"LENGTH\"];\n",
    "avgclogc /= twissHeader[\"LENGTH\"];\n",
    "\n",
    "print(\"{:30} : {:12.6e}\".format(\"Coulomb Log Tailcut\", avgclog))\n",
    "print(\"{:30} : {:12.6e}\".format(\"Coulomb IBS pre-factor Tailcut\", avgclogc))"
   ]
  },
  {
   "cell_type": "markdown",
   "metadata": {},
   "source": [
    "## Integrands and integrals\n",
    "- Simpson\n",
    "- Simpson Decade\n",
    "- Simpson Decade with scaling for Zimmerman Models as implemented in MADX\n",
    "- Integrand Function that can be passed to the integrators (Bjorken-Mtingwa, Conte-Martini, Zimmerman)\n",
    "- Demo with IBS models as individually hard to compare due to different integrands. (test_cpp_integrators.py in unit tests for some examples)"
   ]
  },
  {
   "cell_type": "markdown",
   "metadata": {},
   "source": [
    "## IBS models\n",
    "- Numeric approximation function (fast)\n",
    "    - Piwinski smooth\n",
    "    - Piwinski lattice\n",
    "    - Piwinski Modified\n",
    "    - Nagaitsev without and with tailcut\n",
    "- Using integration\n",
    "    - Zimmerman model - madx with and without tailcut using scaled Simpson Decade\n",
    "    - Bjorken-Mtingwa Simpson (least accurate)\n",
    "    - Bjorken-Mtingwa Simpson Decade with and without tailcut\n",
    "    - Conte-Martini Simpson Decade with and without tailcut\n",
    "    - Zimmerman model with Simpson Decade\n",
    "\n",
    "**Note: all use coulomb constants element weighted - different from previous implementations.**"
   ]
  },
  {
   "cell_type": "code",
   "execution_count": 24,
   "metadata": {},
   "outputs": [
    {
     "name": "stdout",
     "output_type": "stream",
     "text": [
      "IBS Models\n",
      "==========\n",
      "Model                                   \tte2         \ttex         \ttey         \n",
      "Piwinski Smooth                         \t0.000041    \t0.072543    \t0.000866    \n",
      "Piwinski Lattice                        \t0.000060    \t0.011744    \t0.000650    \n",
      "Piwinski Lattice Modified               \t0.000060    \t0.011751    \t0.000651    \n",
      "Nagaitsev                               \t0.000033    \t0.006027    \t0.000422    \n",
      "Nagaitsev Tailcut                       \t0.000035    \t0.006492    \t0.000459    \n",
      "Zimmerman scaled Simpson Decade         \t0.000032    \t0.005792    \t0.000405    \n",
      "Zimmerman scaled Simpson Decade Tailcut \t0.000032    \t0.005880    \t0.000416    \n",
      "Bjorken Mtingwa Simpson                 \t0.000031    \t0.005637    \t0.000411    \n",
      "Bjorken Mtingwa Simpson Decade          \t0.000031    \t0.005572    \t0.000413    \n",
      "Bjorken Mtingwa Simpson Decade Tailcut  \t0.000031    \t0.005762    \t0.000429    \n",
      "Conte Martini Simpson Decade            \t0.000032    \t0.005757    \t0.000403    \n",
      "Conte Martini Simpson Decade Tailcut    \t0.000032    \t0.005953    \t0.000418    \n",
      "Zimmerman Simpson Decade                \t0.000032    \t0.005762    \t0.000404    \n"
     ]
    }
   ],
   "source": [
    "print(\"IBS Models\");\n",
    "print(\"==========\");\n",
    "printf = lambda model, te, tx, ty: \"{:40}\\t{:<12.6f}\\t{:<12.6f}\\t{:<12.6f}\".format(model, te, tx, ty)\n",
    "print(\"{:40}\\t{:12}\\t{:12}\\t{:12}\".format('Model', \"te2\", \"tex\", \"tey\"))\n",
    "res = np.zeros(3)\n",
    "sige0 = 1e-4;\n",
    "\n",
    "\n",
    "ibslib.PiwinskiSmooth(pnumber, equi[3], equi[4], sigs, ibslib.dee_to_dpp(sige0, betar), twissHeader, r0, res);\n",
    "print(printf(\"Piwinski Smooth\", *(0.5/res)));\n",
    "\n",
    "ibslib.PiwinskiLattice(pnumber, equi[3], equi[4], sigs, ibslib.dee_to_dpp(sige0, betar), twissHeader, twissTable, r0, res);\n",
    "print(printf(\"Piwinski Lattice\", *(0.5/res)));\n",
    "\n",
    "ibslib.PiwinskiLatticeModified(pnumber, equi[3], equi[4], sigs, ibslib.dee_to_dpp(sige0, betar), twissHeader, twissTable, r0, res);\n",
    "print(printf(\"Piwinski Lattice Modified\", *(0.5/res)));\n",
    "\n",
    "ibslib.Nagaitsev(pnumber, equi[3], equi[4], sigs, ibslib.dee_to_dpp(sige0, betar), twissHeader, twissTable, r0, res);\n",
    "print(printf(\"Nagaitsev\", *(0.5/res)));\n",
    "\n",
    "ibslib.NagaitsevTailcut(pnumber, equi[3], equi[4], sigs, ibslib.dee_to_dpp(sige0, betar), twissHeader, twissTable, aatom, r0, res);\n",
    "print(printf(\"Nagaitsev Tailcut\", *(0.5/res)));\n",
    "\n",
    "# IBS METHODS WITH DEDICATED INTEGRATORS\n",
    "# ================================================================================\n",
    "\n",
    "ibslib.Zimmerman(pnumber, equi[3], equi[4], sigs, sige0, twissHeader, twissTable, r0, True, res);\n",
    "print(printf(\"Zimmerman scaled Simpson Decade\", *(0.5/res)));\n",
    "\n",
    "ibslib.ZimmermanTailcut(pnumber, equi[3], equi[4], sigs, sige0, twissHeader, twissTable, r0, aatom, res);\n",
    "print(printf(\"Zimmerman scaled Simpson Decade Tailcut\", *(0.5/res)));\n",
    "\n",
    "ibslib.BjorkenMtingwaSimpson(pnumber, equi[3], equi[4], sigs, ibslib.dee_to_dpp(sige0, betar), twissHeader, twissTable, r0, aatom, res);\n",
    "print(printf(\"Bjorken Mtingwa Simpson\", *(0.5/res)));\n",
    "\n",
    "ibslib.BjorkenMtingwaSimpsonDecade(pnumber, equi[3], equi[4], sigs, ibslib.dee_to_dpp(sige0, betar), twissHeader, twissTable, r0, aatom, res);\n",
    "print(printf(\"Bjorken Mtingwa Simpson Decade\", *(0.5/res)));\n",
    "\n",
    "ibslib.BjorkenMtingwaTailcutSimpsonDecade(pnumber, equi[3], equi[4], sigs, ibslib.dee_to_dpp(sige0, betar), twissHeader, twissTable, r0, aatom, res);\n",
    "print(printf(\"Bjorken Mtingwa Simpson Decade Tailcut\", *(0.5/res)));\n",
    "\n",
    "ibslib.ConteMartiniSimpsonDecade(pnumber, equi[3], equi[4], sigs, ibslib.dee_to_dpp(sige0, betar), twissHeader, twissTable, r0, aatom, res);\n",
    "print(printf(\"Conte Martini Simpson Decade\", *(0.5/res)));\n",
    "\n",
    "ibslib.ConteMartiniTailcutSimpsonDecade(pnumber, equi[3], equi[4], sigs, ibslib.dee_to_dpp(sige0, betar), twissHeader, twissTable, r0, aatom, res);\n",
    "print(printf(\"Conte Martini Simpson Decade Tailcut\", *(0.5/res)));\n",
    "\n",
    "ibslib.ZimmermanSimpsonDecade(pnumber, equi[3], equi[4], sigs, ibslib.dee_to_dpp(sige0, betar), twissHeader, twissTable, r0, aatom, res);\n",
    "print(printf(\"Zimmerman Simpson Decade\", *(0.5/res)));"
   ]
  },
  {
   "cell_type": "markdown",
   "metadata": {},
   "source": [
    "Keep in mind that the Piwinski models do not use an elment weighted Coulomb Log calculation, but it is embedded in the analytical function used."
   ]
  },
  {
   "cell_type": "markdown",
   "metadata": {},
   "source": [
    "## ODE simulations"
   ]
  },
  {
   "cell_type": "code",
   "execution_count": 25,
   "metadata": {},
   "outputs": [],
   "source": [
    "# for the CLI command this is read from a json file\n",
    "sim_input= {\n",
    "    \"twissfile\": \"b2_design.twiss\",\n",
    "    \"harmon\": [\n",
    "        400.0\n",
    "    ],\n",
    "    \"voltages\": [\n",
    "        -1.5e6\n",
    "    ],\n",
    "    \"ex\": 7.5e-9,\n",
    "    \"ey\": 1e-10,\n",
    "    \"sigs\": 0.005,\n",
    "    \"model\": 1,\n",
    "    \"pnumber\": 1e10,\n",
    "    \"coupling\": 0,\n",
    "    \"threshold\": 1e-4,\n",
    "    \"outfile\": \"sim_test.csv\",\n",
    "    \"plotfile\": \"sim_test.png\"\n",
    "}"
   ]
  },
  {
   "cell_type": "code",
   "execution_count": 31,
   "metadata": {},
   "outputs": [
    {
     "name": "stdout",
     "output_type": "stream",
     "text": [
      "\u001b[1;34mFinal ex             : 6.030113e-09\n",
      "Final ey             : 2.862700e-13\n",
      "Final sigs           : 3.915411e-03\n",
      "Final tau_ibs_x      : 3.682797e-01\n",
      "Final tau_ibs_y      : 1.198404e-02\n",
      "Final tau_ibs_s      : 1.771785e-02\n",
      "\u001b[0m\u001b[1;36mRadiation Damping Times\n",
      "=======================\n",
      "Tau_rad_x            :         7.967527e-03 (s)\n",
      "Tau_rad_y            :         7.993224e-03 (s)\n",
      "Tau_rad_s            :         3.990177e-03 (s)\n",
      "\u001b[1;34m\n",
      "Longitudinal Parameters\n",
      "=======================\n",
      "Synchrotron Tune     :         6.390254e-03 ()\n",
      "Synchrotron Freq     :         5.015421e+04 (Hz)\n",
      "SigEOE2              :         4.877655e-07 ()\n",
      "SigEOE               :         6.984021e-04 ()\n",
      "eta                  :         7.316943e-04 ()\n",
      "Sigs                 :         5.000000e-03 ()\n",
      "Sigs_inf             :         3.054559e-03 ()\n",
      "SigE0                :         6.984021e-04 ()\n",
      "\u001b[1;36mSige0 - check        :         6.984021e-04 ()\n",
      "\u001b[0m\n",
      "    (Weighted) average rates - emittances (1/sec)\n",
      "    Longitudinal =        7.194518\n",
      "    Horizontal   =        0.170577\n",
      "    Vertical     =        0.006858\n",
      "\n",
      "    (Weighted) average growth - emittances (sec)\n",
      "    Longitudinal =        0.138995\n",
      "    Horizontal   =        5.862444\n",
      "    Vertical     =      145.810448\n",
      "\u001b[1;31m\n",
      "Max tau : 1.000000e+00\n",
      "dt      : 3.990177e-03\n",
      "Max step: 2506\n",
      "\n",
      "Coupling:     0.000000\n",
      "\n",
      "\u001b[0m"
     ]
    }
   ],
   "source": [
    "twissheader = ibslib.GetTwissHeader(sim_input[\"twissfile\"])\n",
    "twisstable = ibslib.GetTwissTable(sim_input[\"twissfile\"])\n",
    "twisstable = ibslib.updateTwiss(twisstable)\n",
    "\n",
    "pnumber = 1e10\n",
    "ex = 5e-9\n",
    "ey = 1e-10\n",
    "sigs = 0.005\n",
    "\n",
    "t = [0.0]\n",
    "exa = [sim_input['ex']]\n",
    "eya = [sim_input['ey']]\n",
    "sigsa = [sim_input['sigs']]\n",
    "sigea = []\n",
    "harmon = [400.0]\n",
    "voltages = [-4.0 * 375e3]\n",
    "coupling = 0\n",
    "threshold = 1e-3\n",
    "\n",
    "res = ibslib.runODE(\n",
    "    twissheader,\n",
    "    twisstable,\n",
    "     sim_input[\"harmon\"],\n",
    "    sim_input[\"voltages\"],\n",
    "    t,\n",
    "    exa,\n",
    "    eya,\n",
    "    sigsa,\n",
    "    sigea,\n",
    "    sim_input[\"model\"],\n",
    "    sim_input[\"pnumber\"],\n",
    "    sim_input[\"coupling\"],\n",
    "    sim_input[\"threshold\"],\n",
    "    \"der\"\n",
    ")\n",
    "\n",
    "df = pd.DataFrame.from_dict(res, orient='columns')\n"
   ]
  },
  {
   "cell_type": "code",
   "execution_count": 32,
   "metadata": {},
   "outputs": [
    {
     "name": "stdout",
     "output_type": "stream",
     "text": [
      "plotting\n"
     ]
    },
    {
     "data": {
      "image/png": "[encoded data removed]",
      "text/plain": [
       "<Figure size 432x288 with 3 Axes>"
      ]
     },
     "metadata": {
      "needs_background": "light"
     },
     "output_type": "display_data"
    }
   ],
   "source": [
    "from ibs import plot\n",
    "plot(df,sim_input)"
   ]
  },
  {
   "cell_type": "code",
   "execution_count": 33,
   "metadata": {},
   "outputs": [
    {
     "name": "stdout",
     "output_type": "stream",
     "text": [
      "\u001b[1;34mFinal ex             : 6.038282e-09\n",
      "Final ey             : 2.847459e-13\n",
      "Final sigs           : 3.929978e-03\n",
      "Final tau_ibs_x      : 3.700130e-01\n",
      "Final tau_ibs_y      : 1.194495e-02\n",
      "Final tau_ibs_s      : 1.791067e-02\n",
      "\u001b[0m\u001b[1;36mRadiation Damping Times\n",
      "=======================\n",
      "Tau_rad_x            :         7.967527e-03 (s)\n",
      "Tau_rad_y            :         7.993224e-03 (s)\n",
      "Tau_rad_s            :         3.990177e-03 (s)\n",
      "\u001b[1;34m\n",
      "Longitudinal Parameters\n",
      "=======================\n",
      "Synchrotron Tune     :         6.390254e-03 ()\n",
      "Synchrotron Freq     :         5.015421e+04 (Hz)\n",
      "SigEOE2              :         4.877655e-07 ()\n",
      "SigEOE               :         6.984021e-04 ()\n",
      "eta                  :         7.316943e-04 ()\n",
      "Sigs                 :         5.000000e-03 ()\n",
      "Sigs_inf             :         3.054559e-03 ()\n",
      "SigE0                :         6.984021e-04 ()\n",
      "\u001b[1;36mSige0 - check        :         6.984021e-04 ()\n",
      "\u001b[0m\n",
      "    (Weighted) average rates - emittances (1/sec)\n",
      "    Longitudinal =        7.194518\n",
      "    Horizontal   =        0.170577\n",
      "    Vertical     =        0.006858\n",
      "\n",
      "    (Weighted) average growth - emittances (sec)\n",
      "    Longitudinal =        0.138995\n",
      "    Horizontal   =        5.862444\n",
      "    Vertical     =      145.810448\n",
      "\u001b[1;31m\n",
      "Max tau : 1.000000e+00\n",
      "dt      : 3.990177e-03\n",
      "Max step: 2506\n",
      "\n",
      "Coupling:     0.000000\n",
      "\n",
      "\u001b[0m"
     ]
    }
   ],
   "source": [
    "twissheader = ibslib.GetTwissHeader(sim_input[\"twissfile\"])\n",
    "twisstable = ibslib.GetTwissTable(sim_input[\"twissfile\"])\n",
    "twisstable = ibslib.updateTwiss(twisstable)\n",
    "\n",
    "pnumber = 1e10\n",
    "ex = 5e-9\n",
    "ey = 1e-10\n",
    "sigs = 0.005\n",
    "\n",
    "t = [0.0]\n",
    "exa = [sim_input['ex']]\n",
    "eya = [sim_input['ey']]\n",
    "sigsa = [sim_input['sigs']]\n",
    "sigea = []\n",
    "harmon = [400.0]\n",
    "voltages = [-4.0 * 375e3]\n",
    "coupling = 0\n",
    "threshold = 1e-3\n",
    "\n",
    "res = ibslib.runODE(\n",
    "    twissheader,\n",
    "    twisstable,\n",
    "     sim_input[\"harmon\"],\n",
    "    sim_input[\"voltages\"],\n",
    "    t,\n",
    "    exa,\n",
    "    eya,\n",
    "    sigsa,\n",
    "    sigea,\n",
    "    sim_input[\"model\"],\n",
    "    sim_input[\"pnumber\"],\n",
    "    sim_input[\"coupling\"],\n",
    "    sim_input[\"threshold\"],\n",
    "    \"rlx\"\n",
    ")\n",
    "\n",
    "df = pd.DataFrame.from_dict(res, orient='columns')\n"
   ]
  },
  {
   "cell_type": "code",
   "execution_count": 34,
   "metadata": {},
   "outputs": [
    {
     "name": "stdout",
     "output_type": "stream",
     "text": [
      "plotting\n"
     ]
    },
    {
     "data": {
      "image/png": "[encoded data removed]",
      "text/plain": [
       "<Figure size 432x288 with 3 Axes>"
      ]
     },
     "metadata": {
      "needs_background": "light"
     },
     "output_type": "display_data"
    }
   ],
   "source": [
    "from ibs import plot\n",
    "plot(df,sim_input)"
   ]
  },
  {
   "cell_type": "code",
   "execution_count": null,
   "metadata": {},
   "outputs": [],
   "source": []
  }
 ],
 "metadata": {
  "celltoolbar": "Slideshow",
  "kernelspec": {
   "display_name": "Python [conda env:ibslibenv]",
   "language": "python",
   "name": "conda-env-ibslibenv-py"
  },
  "language_info": {
   "codemirror_mode": {
    "name": "ipython",
    "version": 3
   },
   "file_extension": ".py",
   "mimetype": "text/x-python",
   "name": "python",
   "nbconvert_exporter": "python",
   "pygments_lexer": "ipython3",
   "version": "3.8.10"
  },
  "latex_envs": {
   "LaTeX_envs_menu_present": true,
   "autoclose": false,
   "autocomplete": true,
   "bibliofile": "biblio.bib",
   "cite_by": "apalike",
   "current_citInitial": 1,
   "eqLabelWithNumbers": true,
   "eqNumInitial": 1,
   "hotkeys": {
    "equation": "Ctrl-E",
    "itemize": "Ctrl-I"
   },
   "labels_anchors": false,
   "latex_user_defs": false,
   "report_style_numbering": false,
   "user_envs_cfg": false
  },
  "toc": {
   "base_numbering": 1,
   "nav_menu": {},
   "number_sections": true,
   "sideBar": true,
   "skip_h1_title": false,
   "title_cell": "Table of Contents",
   "title_sidebar": "Contents",
   "toc_cell": false,
   "toc_position": {},
   "toc_section_display": true,
   "toc_window_display": false
  }
 },
 "nbformat": 4,
 "nbformat_minor": 4
}
